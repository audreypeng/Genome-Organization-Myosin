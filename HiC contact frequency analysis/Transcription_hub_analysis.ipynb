{
 "cells": [
  {
   "cell_type": "code",
   "execution_count": null,
   "id": "5677a6d8",
   "metadata": {},
   "outputs": [],
   "source": [
    "from scipy.sparse import csr_matrix\n",
    "import tables\n",
    "import h5py\n",
    "import hdf5plugin\n",
    "\n",
    "import matplotlib.pyplot as plt\n",
    "import matplotlib.colors as colors\n",
    "import numpy as np\n",
    "import seaborn as sb\n",
    "from scipy import signal\n",
    "import glob\n",
    "\n",
    "import pandas as pd\n",
    "\n",
    "from mpl_toolkits.axes_grid1 import make_axes_locatable\n",
    "\n",
    "import matplotlib as mpl\n",
    "mpl.rcParams['figure.dpi'] = 200"
   ]
  },
  {
   "cell_type": "markdown",
   "id": "cae39862-4c3b-4cb2-846a-5dd765c91ffe",
   "metadata": {
    "tags": []
   },
   "source": [
    "# Import contact frequency matrices\n"
   ]
  },
  {
   "cell_type": "code",
   "execution_count": null,
   "id": "08209584-7443-44b2-8889-b19ed049faa4",
   "metadata": {},
   "outputs": [],
   "source": [
    "# import find raw data files\n",
    "\n",
    "file_names = []\n",
    "for name in glob.glob('./Raw data/*_5kb.h5'):\n",
    "    file_names.append(name)"
   ]
  },
  {
   "cell_type": "markdown",
   "id": "cbb24db1",
   "metadata": {},
   "source": [
    "# Define functions useful for analysis"
   ]
  },
  {
   "cell_type": "code",
   "execution_count": null,
   "id": "f18fcb53",
   "metadata": {},
   "outputs": [],
   "source": [
    "# import HiC heat map data as a matrix\n",
    "\n",
    "#argument:\n",
    "# filename: input name of the file you wish to import matrix for\n",
    "\n",
    "#output:\n",
    "#the heat map itself as a matrix\n",
    "\n",
    "def make_matrix(filename):\n",
    "    with tables.open_file(filename, 'r') as f:\n",
    "        parts = {}\n",
    "        try:\n",
    "            for matrix_part in ('data', 'indices', 'indptr', 'shape'):\n",
    "                parts[matrix_part] = getattr(f.root.matrix, matrix_part).read()\n",
    "        except Exception as e:\n",
    "            log.info('No h5 file. Please check parameters concerning the file type!')\n",
    "            e\n",
    "        matrix = csr_matrix(tuple([parts['data'], parts['indices'], parts['indptr']]),\n",
    "                            shape=parts['shape'])\n",
    "        matrix_array = matrix.toarray()\n",
    "    return matrix_array"
   ]
  },
  {
   "cell_type": "code",
   "execution_count": null,
   "id": "e4c91791",
   "metadata": {},
   "outputs": [],
   "source": [
    "#import interval information, contains list of indices and chromosome that they correspond to\n",
    "\n",
    "#argument:\n",
    "# filename: input name of the file you wish to import intervals for\n",
    "\n",
    "#output:\n",
    "#interval_list: list of chromosomes, indices\n",
    "#keychr: keys to access different list from interval_list\n",
    "\n",
    "def get_intervals(filename):\n",
    "    file = h5py.File(filename)\n",
    "    key_list = file['intervals'].keys()\n",
    "    interval_list = {}\n",
    "    for key in key_list:\n",
    "        interval_list[key] = file['intervals'][key][()]\n",
    "    keychr = list(key_list)\n",
    "    return interval_list, keychr"
   ]
  },
  {
   "cell_type": "code",
   "execution_count": null,
   "id": "dd0b7326",
   "metadata": {},
   "outputs": [],
   "source": [
    "#generate a matrix for specific chromosome vs chromosome interaction\n",
    "\n",
    "#argument:\n",
    "#ma: matrix of heatmap\n",
    "#chromosome_x: chromosome to use for x axis\n",
    "#chromosome_y: chromosome to use for y axis\n",
    "\n",
    "#output:\n",
    "#matrix of desired region\n",
    "\n",
    "def call_region(ma,chromosome_x,chromosome_y):\n",
    "    start_x = indices[chromosome_x]['start']\n",
    "    end_x = indices[chromosome_x]['end']\n",
    "    \n",
    "    start_y = indices[chromosome_y]['start']\n",
    "    end_y = indices[chromosome_y]['end']\n",
    "    \n",
    "    return  ma[start_x:end_x,start_y:end_y]"
   ]
  },
  {
   "cell_type": "code",
   "execution_count": null,
   "id": "1e08ed4f",
   "metadata": {},
   "outputs": [],
   "source": [
    "# chunky code to get the end index for regions, requried for get_indices function\n",
    "# argument:\n",
    "# chrlist: full list of which chromosome each index correspond to\n",
    "\n",
    "#output:\n",
    "#end: end index for each chromosome\n",
    "\n",
    "def get_end_idx(chrlist):\n",
    "    start = {}\n",
    "    end = {}\n",
    "    i = 0\n",
    "    for chromes in chrlist:\n",
    "        if chromes == b'chrIV':\n",
    "            end[chromes] = i\n",
    "            i+=1\n",
    "        elif chromes == b'chrXV':\n",
    "            end[chromes] = i\n",
    "            i+=1\n",
    "        elif chromes == b'chrVII':\n",
    "            end[chromes] = i\n",
    "            i+=1\n",
    "        elif chromes == b'chrXII':\n",
    "            end[chromes] = i\n",
    "            i+=1\n",
    "        elif chromes == b'chrXVI':\n",
    "            end[chromes] = i\n",
    "            i+=1\n",
    "        elif chromes == b'chrXIII':\n",
    "            end[chromes] = i\n",
    "            i+=1\n",
    "        elif chromes == b'chrII':\n",
    "            end[chromes] = i\n",
    "            i+=1\n",
    "        elif chromes == b'chrXIV':\n",
    "            end[chromes] = i\n",
    "            i+=1\n",
    "        elif chromes == b'chrX':\n",
    "            end[chromes] = i\n",
    "            i+=1\n",
    "        elif chromes == b'chrXI':\n",
    "            end[chromes] = i\n",
    "            i+=1\n",
    "        elif chromes == b'chrV':\n",
    "            end[chromes] = i\n",
    "            i+=1\n",
    "        elif chromes == b'chrVIII':\n",
    "            end[chromes] = i\n",
    "            i+=1\n",
    "        elif chromes == b'chrIX':\n",
    "            end[chromes] = i\n",
    "            i+=1\n",
    "        elif chromes == b'chrIII':\n",
    "            end[chromes] = i\n",
    "            i+=1\n",
    "        elif chromes == b'chrVI':\n",
    "            end[chromes] = i\n",
    "            i+=1\n",
    "        elif chromes == b'chrI':\n",
    "            end[chromes] = i\n",
    "            i+=1\n",
    "        elif chromes == b'chrM':\n",
    "            end[chromes] = i\n",
    "            i+=1\n",
    "        else:\n",
    "            break\n",
    "    return end"
   ]
  },
  {
   "cell_type": "code",
   "execution_count": null,
   "id": "b0459035",
   "metadata": {},
   "outputs": [],
   "source": [
    "# makes a dictionary of each chromosomes start and end index\n",
    "\n",
    "# argument:\n",
    "# chromosomes: the list of chromosomes\n",
    "# end_idx: output of get_end_idx\n",
    "\n",
    "#output:\n",
    "#idxs: dictionary of each chromosomes start and end index\n",
    "\n",
    "def get_indices(chromosomes,end_idx):\n",
    "    idxs = {}\n",
    "    next_start = 0\n",
    "    for chromes in chromosomes:\n",
    "        idxs[chromes] = {}\n",
    "        idxs[chromes]['end'] = end_idx[chromes]+1\n",
    "\n",
    "        if chromes == str(b'chrIV'):\n",
    "            idxs[chromes]['start'] = 0\n",
    "        else:\n",
    "            idxs[chromes]['start'] = next_start\n",
    "        next_start = end_idx[chromes]+1\n",
    "        \n",
    "    return idxs"
   ]
  },
  {
   "cell_type": "code",
   "execution_count": null,
   "id": "ec4a0d2a",
   "metadata": {},
   "outputs": [],
   "source": [
    "#divide 2 matrices\n",
    "\n",
    "#argument: \n",
    "#nom_matrix: matrix on the nominator\n",
    "#denom_matrix: matrix on the denominator\n",
    "#log2: whether to apply log2 to output matrix\n",
    "\n",
    "#output:\n",
    "#matrix: matrix after division\n",
    "\n",
    "def divide_matrices(nom_matrix, denom_matrix, log2 = True):\n",
    "    divide_matrix = nom_matrix/denom_matrix\n",
    "\n",
    "    if log2:\n",
    "        matrix = np.log2(divide_matrix)\n",
    "        matrix[~np.isfinite(matrix)] = 0\n",
    "    else:\n",
    "        matrix = divide_matrix\n",
    "        matrix[~np.isfinite(matrix)] = 0\n",
    "    return matrix"
   ]
  },
  {
   "cell_type": "code",
   "execution_count": null,
   "id": "65a3bbc6",
   "metadata": {},
   "outputs": [],
   "source": [
    "#make the triangular matrix a full matrix by duplicating its diagonal counterpart\n",
    "\n",
    "#argument:\n",
    "#ma: matrix of heatmap\n",
    "\n",
    "#output:\n",
    "# full_matrix\n",
    "\n",
    "def make_symmetric(ma):\n",
    "    rotmatrix = np.transpose(ma)\n",
    "    np.fill_diagonal(rotmatrix,0)\n",
    "    full_matrix = ma + rotmatrix\n",
    "    return full_matrix"
   ]
  },
  {
   "cell_type": "code",
   "execution_count": null,
   "id": "2c3f2bd8",
   "metadata": {},
   "outputs": [],
   "source": [
    "# import h5 files and produce the full matrix\n",
    "\n",
    "#argument:\n",
    "#filename: file name of the data to import\n",
    "\n",
    "#output:\n",
    "# full_matrix\n",
    "\n",
    "def make_symm_matrix(filename):\n",
    "    with tables.open_file(filename, 'r') as f:\n",
    "        parts = {}\n",
    "        try:\n",
    "            for matrix_part in ('data', 'indices', 'indptr', 'shape'):\n",
    "                parts[matrix_part] = getattr(f.root.matrix, matrix_part).read()\n",
    "        except Exception as e:\n",
    "            log.info('No h5 file. Please check parameters concerning the file type!')\n",
    "            e\n",
    "        matrix = csr_matrix(tuple([parts['data'], parts['indices'], parts['indptr']]),\n",
    "                            shape=parts['shape'])\n",
    "        matrix_array = matrix.toarray()\n",
    "        \n",
    "        full_ma = make_symmetric(matrix_array)\n",
    "\n",
    "    return full_ma"
   ]
  },
  {
   "cell_type": "code",
   "execution_count": null,
   "id": "60fb3d23",
   "metadata": {},
   "outputs": [],
   "source": [
    "# 2d filter the matrix, eliminate high frequency noise\n",
    "\n",
    "#argument:\n",
    "#ma: matrix\n",
    "#filter_length: length to apply the filter, larger length decreases max signal frequency\n",
    "\n",
    "#output:\n",
    "#filtered_ma: matrix after apply filtering\n",
    "\n",
    "def filtering(ma, filter_length = 5):\n",
    "    filtered_ma = signal.spline_filter(ma,lmbda=filter_length)\n",
    "    return filtered_ma"
   ]
  },
  {
   "cell_type": "code",
   "execution_count": null,
   "id": "a41d8adb",
   "metadata": {},
   "outputs": [],
   "source": [
    "# plot the matrix as a heatmap\n",
    "\n",
    "def plot_matrix(ma, filt = None,filter_len=0, symmetric = True, hlim = None,vlim =None, center=False, interpolation =None, cmap = 'RdYlBu_r', fig_size = 15,vcenter=None, vmin = None, vmax = None ):\n",
    "    fig, ax = plt.subplots()\n",
    "\n",
    "    ma[~np.isfinite(ma)] = 0\n",
    "    if filt:\n",
    "        filtered_ma = filtering(ma,filter_length = filter_len)\n",
    "    else:\n",
    "        filtered_ma = ma\n",
    "    if symmetric:\n",
    "        full_ma = filtered_ma\n",
    "    else:\n",
    "        full_ma = make_symmetric(filtered_ma)\n",
    "    if center:\n",
    "        norm = colors.TwoSlopeNorm(vmin=vmin, vcenter=vcenter, vmax=vmax)\n",
    "        im = ax.imshow(full_ma,cmap = cmap,norm=norm)\n",
    "    else:\n",
    "        im = ax.imshow(full_ma,cmap = cmap,interpolation = interpolation,vmin = vmin, vmax = vmax)\n",
    "    plt.ylim(vlim)\n",
    "    plt.xlim(hlim)\n",
    "    cb = fig.colorbar(im,fraction=0.046, pad=0.04)\n"
   ]
  },
  {
   "cell_type": "code",
   "execution_count": null,
   "id": "09e94c0a",
   "metadata": {},
   "outputs": [],
   "source": [
    "# use this to average only the nonzero values. To include also empty values, use np.average(ma)\n",
    "# note this can also be done for 1d array\n",
    "#argument:\n",
    "#ma: matrix of interest\n",
    "\n",
    "#output:\n",
    "# averaged value of matrix\n",
    "def finite_average(ma):\n",
    "    return np.sum(ma)/np.count_nonzero(ma)"
   ]
  },
  {
   "cell_type": "markdown",
   "id": "f6096dde",
   "metadata": {},
   "source": [
    "# Import data"
   ]
  },
  {
   "cell_type": "code",
   "execution_count": null,
   "id": "d0ad2af1",
   "metadata": {},
   "outputs": [],
   "source": [
    "#get the interval and key information, choose which file to use with file_names\n",
    "\n",
    "interval ,keychr = get_intervals(file_names[0])\n",
    "print(interval)\n",
    "print(keychr)"
   ]
  },
  {
   "cell_type": "code",
   "execution_count": null,
   "id": "bb0d1930",
   "metadata": {},
   "outputs": [],
   "source": [
    "# list of chromosomes\n",
    "\n",
    "chromosomes = [b'chrIV',b'chrXV',b'chrVII',b'chrXII',b'chrXVI',b'chrXIII',b'chrII',b'chrXIV',b'chrX',b'chrXI',b'chrV',b'chrVIII',b'chrIX',b'chrIII',b'chrVI',b'chrI',b'chrM']"
   ]
  },
  {
   "cell_type": "code",
   "execution_count": null,
   "id": "cb493b66",
   "metadata": {},
   "outputs": [],
   "source": [
    "# get start and end indices corresponding to each chromosomes\n",
    "\n",
    "indices = get_indices(chromosomes,get_end_idx(interval[keychr[0]]))"
   ]
  },
  {
   "cell_type": "code",
   "execution_count": null,
   "id": "445d8f6f",
   "metadata": {},
   "outputs": [],
   "source": [
    "# get symmetric matrices from the files, naming nomenclature example: AA22 stands for Anchor Away 1st replicate of 2 hour time point\n",
    "\n",
    "AA20 = make_symm_matrix(file_names[5])\n",
    "AA22 = make_symm_matrix(file_names[3])\n",
    "AA25 = make_symm_matrix(file_names[6])\n",
    "AA30 = make_symm_matrix(file_names[4])\n",
    "AA32 = make_symm_matrix(file_names[2])\n",
    "AA35 = make_symm_matrix(file_names[7])\n",
    "AA40 = make_symm_matrix(file_names[0])\n",
    "AA42 = make_symm_matrix(file_names[1])\n",
    "AA45 = make_symm_matrix(file_names[8])"
   ]
  },
  {
   "cell_type": "markdown",
   "id": "19117905",
   "metadata": {},
   "source": [
    "------"
   ]
  },
  {
   "cell_type": "markdown",
   "id": "2197f197-c34e-4edd-923c-b2e246a4c9a9",
   "metadata": {
    "tags": []
   },
   "source": [
    "## Averaging matrices"
   ]
  },
  {
   "cell_type": "code",
   "execution_count": null,
   "id": "10310070",
   "metadata": {},
   "outputs": [],
   "source": [
    "# average heatmaps for 0 hour time point\n",
    "\n",
    "AAave = np.zeros((2441, 2441))\n",
    "for r in np.arange(0, 2441,1):\n",
    "    for c in np.arange(0, 2441, 1):\n",
    "        nom = np.array([ AA20[r, c], AA30[r, c], AA40[r,c]])\n",
    "        denom = np.count_nonzero(nom) #count how many data points in nom are not zero\n",
    "        if denom != 0:\n",
    "            ave = np.sum(nom)/denom\n",
    "            AAave[r, c] = ave\n",
    "# turn anything not finite into 0 in the full matrix        \n",
    "AAave[~np.isfinite(AAave)] = 0"
   ]
  },
  {
   "cell_type": "code",
   "execution_count": null,
   "id": "b4783b37",
   "metadata": {},
   "outputs": [],
   "source": [
    "# average heatmaps for 2 hour time point\n",
    "\n",
    "AA2ave = np.zeros((2441, 2441))\n",
    "for r in np.arange(0, 2441,1):\n",
    "    for c in np.arange(0, 2441, 1):\n",
    "        nom = np.array([AA22[r, c], AA32[r, c], AA42[r,c]])\n",
    "        denom = np.count_nonzero(nom) #count how many data points in nom are not zero\n",
    "        if denom != 0:\n",
    "            ave = np.sum(nom)/denom\n",
    "            AA2ave[r, c] = ave\n",
    "# turn anything not finite into 0 in the full matrix        \n",
    "AA2ave[~np.isfinite(AA2ave)] = 0"
   ]
  },
  {
   "cell_type": "code",
   "execution_count": null,
   "id": "0e3900ae",
   "metadata": {},
   "outputs": [],
   "source": [
    "# average heatmaps for 5 hour time point\n",
    "\n",
    "AA5ave = np.zeros((2441, 2441))\n",
    "for r in np.arange(0, 2441,1):\n",
    "    for c in np.arange(0, 2441, 1):\n",
    "        nom = np.array([AA25[r, c], AA35[r,c], AA45[r,c]])\n",
    "        denom = np.count_nonzero(nom) #count how many data points in nom are not zero\n",
    "        if denom != 0:\n",
    "            ave = np.sum(nom)/denom\n",
    "            AA5ave[r, c] = ave\n",
    "# turn anything not finite into 0 in the full matrix        \n",
    "AA5ave[~np.isfinite(AA5ave)] = 0"
   ]
  },
  {
   "cell_type": "code",
   "execution_count": null,
   "id": "81d6d2e8",
   "metadata": {
    "tags": []
   },
   "outputs": [],
   "source": [
    "# ratio of 2 hour/DMSO and 5hour/DMSO\n",
    "\n",
    "AAave2_0 = divide_matrices(AA2ave,AAave,log2=True)\n",
    "AAave5_0 = divide_matrices(AA5ave,AAave,log2=True)"
   ]
  },
  {
   "cell_type": "markdown",
   "id": "dee935e2-0272-4d03-a3b7-b1c3e05cbd54",
   "metadata": {
    "tags": []
   },
   "source": [
    "### Dictionary of genes"
   ]
  },
  {
   "cell_type": "code",
   "execution_count": null,
   "id": "a2721a6d-7ca8-4dc4-b1a0-77f19b535d11",
   "metadata": {},
   "outputs": [],
   "source": [
    "ds2 = pd.read_csv('ds2h_idx.txt', delimiter='\\t')"
   ]
  },
  {
   "cell_type": "code",
   "execution_count": null,
   "id": "570872ab-a9f6-430a-ba65-8e7c83fc18a8",
   "metadata": {},
   "outputs": [],
   "source": [
    "ds2idx_array = ds2.iloc[:,5].values\n",
    "ds2gs_array = (ds2.iloc[:,0].values)\n",
    "ds2chr_array = ds2.iloc[:,4].values"
   ]
  },
  {
   "cell_type": "code",
   "execution_count": null,
   "id": "0ec070c8-a6e9-415f-a19b-6f77e9578527",
   "metadata": {},
   "outputs": [],
   "source": [
    "geneslist = ds2gs_array.tolist()\n",
    "genes_idx = dict(zip(ds2gs_array, zip(ds2idx_array, ds2chr_array)))"
   ]
  },
  {
   "cell_type": "code",
   "execution_count": null,
   "id": "f1ba6e03-37e7-4d79-a443-612fddf7db9e",
   "metadata": {},
   "outputs": [],
   "source": [
    "chromosomes = [4, 15, 7, 12, 16, 13, 2, 14, 10, 11, 5, 8, 9, 3, 6, 1]\n",
    "chrstart = [0, 307, 526, 745, 961, 1151, 1336, 1499, 1656, 1806, 1940, 2056, 2169, 2257, 2321, 2376]\n",
    "\n",
    "chrom_dict = dict(zip(chromosomes,chrstart))"
   ]
  },
  {
   "cell_type": "code",
   "execution_count": null,
   "id": "4d4cd83b-b626-428c-9fd5-d72272786c3a",
   "metadata": {
    "tags": []
   },
   "outputs": [],
   "source": [
    "newidx = []\n",
    "for gene in geneslist:\n",
    "        chrom = genes_idx[gene][1]\n",
    "        gene_idx = genes_idx[gene][0]\n",
    "        for chroms in chromosomes:\n",
    "            idx_start=chrom_dict[chroms]\n",
    "            if chrom == chroms:\n",
    "                newidx.append(idx_start+gene_idx)\n",
    "\n",
    "gene_dict = dict(zip(geneslist,newidx))"
   ]
  },
  {
   "cell_type": "markdown",
   "id": "4fbc502a-8d11-4554-8415-cd8d9d6be49e",
   "metadata": {
    "tags": []
   },
   "source": [
    "## Multi-gene sampling"
   ]
  },
  {
   "cell_type": "code",
   "execution_count": null,
   "id": "cb193c75-f036-488e-b45e-b811c26bbaea",
   "metadata": {},
   "outputs": [],
   "source": [
    "TF = pd.read_csv('up5_ndd1_idx.txt', delimiter='\\t')"
   ]
  },
  {
   "cell_type": "code",
   "execution_count": null,
   "id": "96fae8d6-ed36-4070-b1d1-a8f423ccd4f5",
   "metadata": {},
   "outputs": [],
   "source": [
    "TFgs_array = (TF.iloc[:,1].values)\n",
    "TFidx_array = (TF.iloc[:,4].values)\n",
    "TFchr_array = (TF.iloc[:,3].values)"
   ]
  },
  {
   "cell_type": "code",
   "execution_count": null,
   "id": "d3000347-b48c-4e00-9961-484d6851480c",
   "metadata": {},
   "outputs": [],
   "source": [
    "TF_geneslist = TFgs_array.tolist()\n",
    "TF_dict = dict(zip(TFgs_array, zip(TFidx_array, TFchr_array)))"
   ]
  },
  {
   "cell_type": "code",
   "execution_count": null,
   "id": "366b606b-7895-4eee-87f5-8dda13020e9a",
   "metadata": {},
   "outputs": [],
   "source": [
    "chromosomes = [4, 15, 7, 12, 16, 13, 2, 14, 10, 11, 5, 8, 9, 3, 6, 1]\n",
    "chrstart = [0, 307, 526, 745, 961, 1151, 1336, 1499, 1656, 1806, 1940, 2056, 2169, 2257, 2321, 2376]\n",
    "\n",
    "chrom_dict = dict(zip(chromosomes,chrstart))"
   ]
  },
  {
   "cell_type": "code",
   "execution_count": null,
   "id": "7b1bceaf-b4cf-46ab-a645-c500745f736b",
   "metadata": {},
   "outputs": [],
   "source": [
    "newidx = []\n",
    "for gene in TF_geneslist:\n",
    "        chrom = TF_dict[gene][1]\n",
    "        gene_idx = TF_dict[gene][0]\n",
    "        for chroms in chromosomes:\n",
    "            idx_start=chrom_dict[chroms]\n",
    "            if chrom == chroms:\n",
    "                newidx.append(idx_start+gene_idx)\n",
    "\n",
    "TF_newdict = dict(zip(TF_geneslist,newidx))"
   ]
  },
  {
   "cell_type": "markdown",
   "id": "21b87bb9-1ac2-478e-8f66-eacb880cfee6",
   "metadata": {},
   "source": [
    "### TF genes average CF"
   ]
  },
  {
   "cell_type": "code",
   "execution_count": null,
   "id": "1867cc0c-c8a0-462a-b25a-76f7511d539c",
   "metadata": {},
   "outputs": [],
   "source": [
    "def make_heatmap(matrix,gene_dict):\n",
    "    heat_map = []\n",
    "    for key1 in list(gene_dict.keys()):\n",
    "        idx1= gene_dict[key1]\n",
    "        array = []\n",
    "        for key2 in list(gene_dict.keys()):\n",
    "            idx2 = gene_dict[key2]\n",
    "            array.append(matrix[idx1, idx2])\n",
    "        heat_map.append(array)\n",
    "    return heat_map"
   ]
  },
  {
   "cell_type": "code",
   "execution_count": null,
   "id": "c945f41c-d819-4214-8417-f0417315ab50",
   "metadata": {},
   "outputs": [],
   "source": [
    "TF_5h = make_heatmap(AAave5_0, TF_newdict)"
   ]
  },
  {
   "cell_type": "code",
   "execution_count": null,
   "id": "5beafa82-ac2e-47b9-ab36-8bec00da2726",
   "metadata": {},
   "outputs": [],
   "source": [
    "x = map(np.array, TF_5h)"
   ]
  },
  {
   "cell_type": "code",
   "execution_count": null,
   "id": "0b7ec9e4-b32c-4107-9838-ce6fc50df5ec",
   "metadata": {},
   "outputs": [],
   "source": [
    "x = np.array(list(x))"
   ]
  },
  {
   "cell_type": "code",
   "execution_count": null,
   "id": "156c902d-6bb0-41ff-a71c-b42386202c00",
   "metadata": {},
   "outputs": [],
   "source": [
    "x.shape"
   ]
  },
  {
   "cell_type": "code",
   "execution_count": null,
   "id": "0b057aa8-3806-429c-a748-bb68649c97e0",
   "metadata": {},
   "outputs": [],
   "source": [
    "finite_average(x)"
   ]
  },
  {
   "cell_type": "markdown",
   "id": "5e163ceb-5e06-4b38-b544-1849b0ba59ca",
   "metadata": {},
   "source": [
    "### Null distribution"
   ]
  },
  {
   "cell_type": "code",
   "execution_count": null,
   "id": "56bf052a-7679-4cc5-86d4-1c3ccb5d607b",
   "metadata": {},
   "outputs": [],
   "source": [
    "from random import sample"
   ]
  },
  {
   "cell_type": "code",
   "execution_count": null,
   "id": "72ee431a-9af8-450b-a83c-2e02b1fac5d9",
   "metadata": {},
   "outputs": [],
   "source": [
    "#Hundred thousand loops\n",
    "length = len(TF_geneslist)\n",
    "perm = 100000\n",
    "\n",
    "def ave_cf():\n",
    "    \n",
    "    cf_list = []\n",
    "    random_list = sample(geneslist,length)\n",
    "\n",
    "    for gene in random_list:\n",
    "        random_idx = gene_dict[gene]\n",
    "        for TF_gene in TF_geneslist:\n",
    "            TF_idx = TF_newdict[TF_gene]\n",
    "        #change ma depending on 2h or 5h\n",
    "        ma = AAave5_0\n",
    "        cf = [ma[random_idx, TF_idx]]\n",
    "        cf_list.append(cf)\n",
    "\n",
    "    ave_cf = np.mean(cf_list)\n",
    "    return ave_cf\n",
    "\n",
    "ave_cf_rand = [ave_cf() for i in range(perm)]"
   ]
  },
  {
   "cell_type": "code",
   "execution_count": null,
   "id": "46db374b-6046-4ab4-839a-4a74b3a30e02",
   "metadata": {},
   "outputs": [],
   "source": [
    "ave_cf_rand = np.array(ave_cf_rand)\n",
    "\n",
    "plt.hist(ave_cf_rand, bins = 100, color='c')\n",
    "plt.axvline(finite_average(ave_cf_rand), color='k', linestyle='dashed', linewidth=1)\n",
    "plt.text(finite_average(ave_cf_rand),2500, np.around(finite_average(ave_cf_rand), decimals=2, out=None))\n",
    "plt.axvline(finite_average(x), color='m', linewidth=1)\n",
    "plt.text(finite_average(x),3000, np.around(finite_average(x), decimals=2, out=None), color='m')\n",
    "plt.xlim(xmin=-0.6, xmax = 0.6)\n",
    "plt.ylim(ymin=0, ymax = 4000)\n",
    "\n",
    "tfmean = finite_average(x)\n",
    "rmean = finite_average(ave_cf_rand)\n",
    "rSD = np.std(ave_cf_rand)\n",
    "\n",
    "randodist = np.histogram(ave_cf_rand, bins = 100)\n",
    "\n",
    "freqlist = []\n",
    "\n",
    "for i in enumerate(randodist[1]):\n",
    "    if i[1] > tfmean:\n",
    "        freq = randodist[0][i[0]-1]\n",
    "        freqlist.append(freq)\n",
    "        \n",
    "pvfreq = np.sum(freqlist)\n",
    "totalfreq = np.sum(randodist[0])\n",
    "pvalue = pvfreq/totalfreq\n",
    "\n",
    "plt.text(0.3,3300, 'p-value = {}'.format(np.around(pvalue, decimals=2, out=None)), color='k')\n",
    "\n",
    "zscore = (finite_average(x)-finite_average(ave_cf_rand))/np.std(ave_cf_rand)\n",
    "plt.text(0.3,3000, 'z-score = {}'.format(np.around(zscore, decimals=2, out=None)), color='k')\n",
    "\n",
    "plt.xlabel('Average Change in Contact Frequency')\n",
    "plt.ylabel('No. of Gene Sets')\n",
    "\n",
    "##replace title and file name\n",
    "\n",
    "plt.title('Ndd1 (Rap 5h Upregulated)')\n",
    "plt.savefig('Up_5h_Ndd1.png')\n",
    "\n"
   ]
  },
  {
   "cell_type": "code",
   "execution_count": null,
   "id": "526a460d-f294-4caa-b2ec-c603e5ef404c",
   "metadata": {},
   "outputs": [],
   "source": []
  }
 ],
 "metadata": {
  "kernelspec": {
   "display_name": "Python 3 (ipykernel)",
   "language": "python",
   "name": "python3"
  },
  "language_info": {
   "codemirror_mode": {
    "name": "ipython",
    "version": 3
   },
   "file_extension": ".py",
   "mimetype": "text/x-python",
   "name": "python",
   "nbconvert_exporter": "python",
   "pygments_lexer": "ipython3",
   "version": "3.10.9"
  }
 },
 "nbformat": 4,
 "nbformat_minor": 5
}
