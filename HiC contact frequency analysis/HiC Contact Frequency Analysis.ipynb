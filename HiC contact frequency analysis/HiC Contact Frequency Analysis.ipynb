{
 "cells": [
  {
   "cell_type": "code",
   "execution_count": null,
   "id": "5677a6d8",
   "metadata": {},
   "outputs": [],
   "source": [
    "# import depencies\n",
    "from scipy.sparse import csr_matrix\n",
    "import tables\n",
    "import h5py\n",
    "import hdf5plugin\n",
    "\n",
    "import matplotlib.pyplot as plt\n",
    "import matplotlib.colors as colors\n",
    "import numpy as np\n",
    "import seaborn as sb\n",
    "from scipy import signal\n",
    "import glob\n",
    "\n",
    "import pandas as pd\n",
    "\n",
    "from mpl_toolkits.axes_grid1 import make_axes_locatable\n",
    "import matplotlib as mpl\n",
    "\n",
    "# scale figure\n",
    "mpl.rcParams['figure.dpi'] = 200"
   ]
  },
  {
   "cell_type": "markdown",
   "id": "cae39862-4c3b-4cb2-846a-5dd765c91ffe",
   "metadata": {},
   "source": [
    "# Import contact frequency matrices\n"
   ]
  },
  {
   "cell_type": "code",
   "execution_count": null,
   "id": "a88015d9-bc84-49b5-9272-82185c6e0ffa",
   "metadata": {},
   "outputs": [],
   "source": [
    "# import raw data files\n",
    "\n",
    "file_names = []\n",
    "for name in glob.glob('./Raw data/*_5kb.h5'):\n",
    "    file_names.append(name)"
   ]
  },
  {
   "cell_type": "code",
   "execution_count": null,
   "id": "ef3274c0-a8db-4660-9bd9-f9dc8afdc883",
   "metadata": {},
   "outputs": [],
   "source": [
    "file_names"
   ]
  },
  {
   "cell_type": "markdown",
   "id": "c6628bd7",
   "metadata": {},
   "source": [
    "# Define functions useful for analysis"
   ]
  },
  {
   "cell_type": "code",
   "execution_count": null,
   "id": "f18fcb53",
   "metadata": {},
   "outputs": [],
   "source": [
    "# import HiC heat map data as a matrix\n",
    "\n",
    "#argument:\n",
    "# filename: input name of the file you wish to import matrix for\n",
    "\n",
    "#output:\n",
    "#the heat map itself as a matrix\n",
    "def make_matrix(filename):\n",
    "    with tables.open_file(filename, 'r') as f:\n",
    "        parts = {}\n",
    "        try:\n",
    "            for matrix_part in ('data', 'indices', 'indptr', 'shape'):\n",
    "                parts[matrix_part] = getattr(f.root.matrix, matrix_part).read()\n",
    "        except Exception as e:\n",
    "            log.info('No h5 file. Please check parameters concerning the file type!')\n",
    "            e\n",
    "        matrix = csr_matrix(tuple([parts['data'], parts['indices'], parts['indptr']]),\n",
    "                            shape=parts['shape'])\n",
    "        matrix_array = matrix.toarray()\n",
    "    return matrix_array"
   ]
  },
  {
   "cell_type": "code",
   "execution_count": null,
   "id": "e4c91791",
   "metadata": {},
   "outputs": [],
   "source": [
    "#import interval information, contains list of indices and chromosome that they correspond to\n",
    "\n",
    "#argument:\n",
    "# filename: input name of the file you wish to import intervals for\n",
    "\n",
    "#output:\n",
    "#interval_list: list of chromosomes, indices\n",
    "#keychr: keys to access different list from interval_list\n",
    "\n",
    "def get_intervals(filename):\n",
    "    file = h5py.File(filename)\n",
    "    key_list = file['intervals'].keys()\n",
    "    interval_list = {}\n",
    "    for key in key_list:\n",
    "        interval_list[key] = file['intervals'][key][()]\n",
    "    keychr = list(key_list)\n",
    "    return interval_list, keychr"
   ]
  },
  {
   "cell_type": "code",
   "execution_count": null,
   "id": "dd0b7326",
   "metadata": {},
   "outputs": [],
   "source": [
    "#generate a matrix for specific chromosome vs chromosome interaction\n",
    "\n",
    "#argument:\n",
    "#ma: matrix of heatmap\n",
    "#chromosome_x: chromosome to use for x axis\n",
    "#chromosome_y: chromosome to use for y axis\n",
    "\n",
    "#output:\n",
    "#matrix of desired region\n",
    "\n",
    "def call_region(ma,chromosome_x,chromosome_y):\n",
    "    start_x = indices[chromosome_x]['start']\n",
    "    end_x = indices[chromosome_x]['end']\n",
    "    \n",
    "    start_y = indices[chromosome_y]['start']\n",
    "    end_y = indices[chromosome_y]['end']\n",
    "    \n",
    "    return  ma[start_x:end_x,start_y:end_y]"
   ]
  },
  {
   "cell_type": "code",
   "execution_count": null,
   "id": "1e08ed4f",
   "metadata": {},
   "outputs": [],
   "source": [
    "# chunky code to get the end index for regions, requried for get_indices function\n",
    "# argument:\n",
    "# chrlist: full list of which chromosome each index correspond to\n",
    "\n",
    "#output:\n",
    "#end: end index for each chromosome\n",
    "\n",
    "def get_end_idx(chrlist):\n",
    "    start = {}\n",
    "    end = {}\n",
    "    i = 0\n",
    "    for chromes in chrlist:\n",
    "        if chromes == b'chrIV':\n",
    "            end[chromes] = i\n",
    "            i+=1\n",
    "        elif chromes == b'chrXV':\n",
    "            end[chromes] = i\n",
    "            i+=1\n",
    "        elif chromes == b'chrVII':\n",
    "            end[chromes] = i\n",
    "            i+=1\n",
    "        elif chromes == b'chrXII':\n",
    "            end[chromes] = i\n",
    "            i+=1\n",
    "        elif chromes == b'chrXVI':\n",
    "            end[chromes] = i\n",
    "            i+=1\n",
    "        elif chromes == b'chrXIII':\n",
    "            end[chromes] = i\n",
    "            i+=1\n",
    "        elif chromes == b'chrII':\n",
    "            end[chromes] = i\n",
    "            i+=1\n",
    "        elif chromes == b'chrXIV':\n",
    "            end[chromes] = i\n",
    "            i+=1\n",
    "        elif chromes == b'chrX':\n",
    "            end[chromes] = i\n",
    "            i+=1\n",
    "        elif chromes == b'chrXI':\n",
    "            end[chromes] = i\n",
    "            i+=1\n",
    "        elif chromes == b'chrV':\n",
    "            end[chromes] = i\n",
    "            i+=1\n",
    "        elif chromes == b'chrVIII':\n",
    "            end[chromes] = i\n",
    "            i+=1\n",
    "        elif chromes == b'chrIX':\n",
    "            end[chromes] = i\n",
    "            i+=1\n",
    "        elif chromes == b'chrIII':\n",
    "            end[chromes] = i\n",
    "            i+=1\n",
    "        elif chromes == b'chrVI':\n",
    "            end[chromes] = i\n",
    "            i+=1\n",
    "        elif chromes == b'chrI':\n",
    "            end[chromes] = i\n",
    "            i+=1\n",
    "        elif chromes == b'chrM':\n",
    "            end[chromes] = i\n",
    "            i+=1\n",
    "        else:\n",
    "            break\n",
    "    return end"
   ]
  },
  {
   "cell_type": "code",
   "execution_count": null,
   "id": "b0459035",
   "metadata": {},
   "outputs": [],
   "source": [
    "# makes a dictionary of each chromosomes start and end index\n",
    "\n",
    "# argument:\n",
    "# chromosomes: the list of chromosomes\n",
    "# end_idx: output of get_end_idx\n",
    "\n",
    "#output:\n",
    "#idxs: dictionary of each chromosomes start and end index\n",
    "\n",
    "def get_indices(chromosomes,end_idx):\n",
    "    idxs = {}\n",
    "    next_start = 0\n",
    "    for chromes in chromosomes:\n",
    "        idxs[chromes] = {}\n",
    "        idxs[chromes]['end'] = end_idx[chromes]+1\n",
    "\n",
    "        if chromes == str(b'chrIV'):\n",
    "            idxs[chromes]['start'] = 0\n",
    "        else:\n",
    "            idxs[chromes]['start'] = next_start\n",
    "        next_start = end_idx[chromes]+1\n",
    "        \n",
    "    return idxs"
   ]
  },
  {
   "cell_type": "code",
   "execution_count": null,
   "id": "ec4a0d2a",
   "metadata": {},
   "outputs": [],
   "source": [
    "#divide 2 matrices\n",
    "\n",
    "#argument: \n",
    "#nom_matrix: matrix on the nominator\n",
    "#denom_matrix: matrix on the denominator\n",
    "#log2: whether to apply log2 to output matrix\n",
    "\n",
    "#output:\n",
    "#matrix: matrix after division\n",
    "\n",
    "def divide_matrices(nom_matrix, denom_matrix, log2 = True):\n",
    "    divide_matrix = nom_matrix/denom_matrix\n",
    "#     divide_matrix[~np.isfinite(divide_matrix)] = 0\n",
    "    if log2:\n",
    "        matrix = np.log2(divide_matrix)\n",
    "        matrix[~np.isfinite(matrix)] = 0\n",
    "    else:\n",
    "        matrix = divide_matrix\n",
    "        matrix[~np.isfinite(matrix)] = 0\n",
    "    return matrix"
   ]
  },
  {
   "cell_type": "code",
   "execution_count": null,
   "id": "65a3bbc6",
   "metadata": {},
   "outputs": [],
   "source": [
    "#make the triangular matrix a full matrix by duplicating its diagonal counterpart\n",
    "\n",
    "#argument:\n",
    "#ma: matrix of heatmap\n",
    "\n",
    "#output:\n",
    "# full_matrix\n",
    "\n",
    "def make_symmetric(ma):\n",
    "    rotmatrix = np.transpose(ma)\n",
    "    np.fill_diagonal(rotmatrix,0)\n",
    "    full_matrix = ma + rotmatrix\n",
    "    return full_matrix"
   ]
  },
  {
   "cell_type": "code",
   "execution_count": null,
   "id": "2c3f2bd8",
   "metadata": {},
   "outputs": [],
   "source": [
    "# import h5 files and produce the full matrix\n",
    "\n",
    "#argument:\n",
    "#filename: file name of the data to import\n",
    "\n",
    "#output:\n",
    "# full_matrix\n",
    "\n",
    "def make_symm_matrix(filename):\n",
    "    with tables.open_file(filename, 'r') as f:\n",
    "        parts = {}\n",
    "        try:\n",
    "            for matrix_part in ('data', 'indices', 'indptr', 'shape'):\n",
    "                parts[matrix_part] = getattr(f.root.matrix, matrix_part).read()\n",
    "        except Exception as e:\n",
    "            log.info('No h5 file. Please check parameters concerning the file type!')\n",
    "            e\n",
    "        matrix = csr_matrix(tuple([parts['data'], parts['indices'], parts['indptr']]),\n",
    "                            shape=parts['shape'])\n",
    "        matrix_array = matrix.toarray()\n",
    "        \n",
    "        full_ma = make_symmetric(matrix_array)\n",
    "\n",
    "    return full_ma"
   ]
  },
  {
   "cell_type": "code",
   "execution_count": null,
   "id": "60fb3d23",
   "metadata": {},
   "outputs": [],
   "source": [
    "# 2d filter the matrix, eliminate high frequency noise\n",
    "\n",
    "#argument:\n",
    "#ma: matrix\n",
    "#filter_length: length to apply the filter, larger length decreases max signal frequency\n",
    "\n",
    "#output:\n",
    "#filtered_ma: matrix after apply filtering\n",
    "\n",
    "def filtering(ma, filter_length = 5):\n",
    "    filtered_ma = signal.spline_filter(ma,lmbda=filter_length)\n",
    "    return filtered_ma"
   ]
  },
  {
   "cell_type": "code",
   "execution_count": null,
   "id": "a41d8adb",
   "metadata": {},
   "outputs": [],
   "source": [
    "# plot the matrix as a heatmap\n",
    "\n",
    "def plot_matrix(ma, filt = None,filter_len=0, symmetric = True, hlim = None,vlim =None, center=False, interpolation =None, cmap = 'RdYlBu_r', fig_size = 15,vcenter=None, vmin = None, vmax = None ):\n",
    "    fig, ax = plt.subplots()\n",
    "\n",
    "    ma[~np.isfinite(ma)] = 0\n",
    "    if filt:\n",
    "        filtered_ma = filtering(ma,filter_length = filter_len)\n",
    "    else:\n",
    "        filtered_ma = ma\n",
    "    if symmetric:\n",
    "        full_ma = filtered_ma\n",
    "    else:\n",
    "        full_ma = make_symmetric(filtered_ma)\n",
    "    if center:\n",
    "        norm = colors.TwoSlopeNorm(vmin=vmin, vcenter=vcenter, vmax=vmax)\n",
    "        im = ax.imshow(full_ma,cmap = cmap,norm=norm)\n",
    "    else:\n",
    "        im = ax.imshow(full_ma,cmap = cmap,interpolation = interpolation,vmin = vmin, vmax = vmax)\n",
    "    plt.ylim(vlim)\n",
    "    plt.xlim(hlim)\n",
    "    cb = fig.colorbar(im,fraction=0.046, pad=0.04)\n",
    "#     cb.set_ticks([0,1,2,3,4])\n",
    "#     cb.set_ticklabels(['$10^0$','$10^1$','$10^2$','$10^3$','$10^4$'])\n",
    "#     plt.xlabel('sites /5kB')\n",
    "#     plt.ylabel('sites /5kB')"
   ]
  },
  {
   "cell_type": "code",
   "execution_count": null,
   "id": "09e94c0a",
   "metadata": {},
   "outputs": [],
   "source": [
    "# use this to average only the nonzero values. To include also empty values, use np.average(ma)\n",
    "# note this can also be done for 1d array\n",
    "#argument:\n",
    "#ma: matrix of interest\n",
    "\n",
    "#output:\n",
    "# averaged value of matrix\n",
    "def finite_average(ma):\n",
    "    return np.sum(ma)/np.count_nonzero(ma)"
   ]
  },
  {
   "cell_type": "markdown",
   "id": "84c7c761",
   "metadata": {},
   "source": [
    "# Import data"
   ]
  },
  {
   "cell_type": "code",
   "execution_count": null,
   "id": "d0ad2af1",
   "metadata": {},
   "outputs": [],
   "source": [
    "#get the interval and key information, choose which file to use with file_names\n",
    "\n",
    "interval ,keychr = get_intervals(file_names[0])\n",
    "print(interval)\n",
    "print(keychr)"
   ]
  },
  {
   "cell_type": "code",
   "execution_count": null,
   "id": "bb0d1930",
   "metadata": {},
   "outputs": [],
   "source": [
    "# list of chromosomes\n",
    "chromosomes = [b'chrIV',b'chrXV',b'chrVII',b'chrXII',b'chrXVI',b'chrXIII',b'chrII',b'chrXIV',b'chrX',b'chrXI',b'chrV',b'chrVIII',b'chrIX',b'chrIII',b'chrVI',b'chrI',b'chrM']"
   ]
  },
  {
   "cell_type": "code",
   "execution_count": null,
   "id": "cb493b66",
   "metadata": {},
   "outputs": [],
   "source": [
    "# get start and end indices corresponding to each chromosomes\n",
    "\n",
    "indices = get_indices(chromosomes,get_end_idx(interval[keychr[0]]))\n",
    "\n",
    "# print(indices)"
   ]
  },
  {
   "cell_type": "code",
   "execution_count": null,
   "id": "eb06a160-19d8-457e-8a8a-426a253c0e60",
   "metadata": {},
   "outputs": [],
   "source": [
    "# import list of genes from rna-seq analysis\n",
    "ds2 = pd.read_csv('ds2h_idx.txt', delimiter='\\t')\n",
    "\n",
    "# indices of of genes from rna-seq analysis\n",
    "chr_idx = ds2.groupby('chromosome_name')['idx'].apply(list).to_dict()\n",
    "\n",
    "#list of chromosomes\n",
    "chr_list = [b'chrI', b'chrII', b'chrIII', b'chrIV', b'chrV', b'chrVI', b'chrVII', b'chrVIII', b'chrIX', b'chrX', b'chrXI', b'chrXII', b'chrXIII', b'chrXIV', b'chrXV', b'chrXVI',b'chrM']\n",
    "\n",
    "chr_idx2 = dict(zip(chr_list, list(chr_idx.values())))"
   ]
  },
  {
   "cell_type": "code",
   "execution_count": null,
   "id": "51e6b9cf",
   "metadata": {},
   "outputs": [],
   "source": [
    "# convenience definitions to label and index chromosomes\n",
    "chrome_plots = ['IV','XV','VII','XII','XVI','XIII','II','XIV','X','XI','V','VIII','IX','III','VI','I']\n",
    "\n",
    "chromosomes_num= [4, 15, 7, 12, 16, 13, 2, 14, 10, 11, 5, 8, 9, 3, 6, 1]\n",
    "\n",
    "chromosomes_interval = []\n",
    "for i in indices.keys():\n",
    "    if i != b'chrM':\n",
    "        inter = round((indices[i]['start'] + indices[i]['start'])/2)\n",
    "        chromosomes_interval.append(inter)\n",
    "end = indices[b'chrM']['end']\n",
    "\n",
    "chromosome_label = []\n",
    "for i in chromosomes_num:\n",
    "    chromosome_label.append(str(i))\n",
    "# chromosome_label.append('M')"
   ]
  },
  {
   "cell_type": "code",
   "execution_count": null,
   "id": "5570d85e",
   "metadata": {},
   "outputs": [],
   "source": [
    "# get symmetric matrices from the files, naming nomenclature example: AA22 stands for Anchor Away 1st replicate of 2 hour time point\n",
    "\n",
    "AA20 = make_symm_matrix(file_names[5])\n",
    "AA22 = make_symm_matrix(file_names[3])\n",
    "AA25 = make_symm_matrix(file_names[6])\n",
    "AA30 = make_symm_matrix(file_names[4])\n",
    "AA32 = make_symm_matrix(file_names[2])\n",
    "AA35 = make_symm_matrix(file_names[7])\n",
    "AA40 = make_symm_matrix(file_names[0])\n",
    "AA42 = make_symm_matrix(file_names[1])\n",
    "AA45 = make_symm_matrix(file_names[8])\n",
    "\n",
    "# AA20 = make_symm_matrix(file_names[0])\n",
    "# AA22 = make_symm_matrix(file_names[2])\n",
    "# AA25 = make_symm_matrix(file_names[3])\n",
    "# AA30 = make_symm_matrix(file_names[5])\n",
    "# AA32 = make_symm_matrix(file_names[8])\n",
    "# AA35 = make_symm_matrix(file_names[4])\n",
    "# AA40 = make_symm_matrix(file_names[7])\n",
    "# AA42 = make_symm_matrix(file_names[1])\n",
    "# AA45 = make_symm_matrix(file_names[6])"
   ]
  },
  {
   "cell_type": "markdown",
   "id": "03fa30d8",
   "metadata": {},
   "source": [
    "# Ratio of different heatmaps"
   ]
  },
  {
   "cell_type": "code",
   "execution_count": null,
   "id": "bc0675d2",
   "metadata": {},
   "outputs": [],
   "source": [
    "# log2 ratio of different replicates and time points\n",
    "AA22_AA20 = divide_matrices(AA22,AA20,True)\n",
    "AA25_AA20 = divide_matrices(AA25,AA20,True)\n",
    "\n",
    "AA32_AA30 = divide_matrices(AA32,AA30,True)\n",
    "AA35_AA30 = divide_matrices(AA35,AA30,True)\n",
    "\n",
    "AA42_AA40 =  divide_matrices(AA42,AA40,True)\n",
    "AA45_AA40 = divide_matrices(AA45,AA40,True)\n",
    "\n",
    "AA40_AA30 =  divide_matrices(AA40,AA30,True)\n",
    "AA40_AA20 = divide_matrices(AA40,AA20,True)\n",
    "\n",
    "# ratio of different replicates and time points\n",
    "AA22_AA20_nl = divide_matrices(AA22,AA20,False)\n",
    "AA25_AA20_nl = divide_matrices(AA25,AA20,False)\n",
    "\n",
    "AA32_AA30_nl = divide_matrices(AA32,AA30,False)\n",
    "AA35_AA30_nl = divide_matrices(AA35,AA30,False)\n",
    "\n",
    "AA42_AA40_nl =  divide_matrices(AA42,AA40,False)\n",
    "AA45_AA40_nl = divide_matrices(AA45,AA40,False)\n",
    "\n"
   ]
  },
  {
   "cell_type": "markdown",
   "id": "fcfaa4e1-d05a-40ca-a610-d3ea4c3d14b7",
   "metadata": {},
   "source": [
    "## Averaging matrices"
   ]
  },
  {
   "cell_type": "code",
   "execution_count": null,
   "id": "bcd604ef",
   "metadata": {},
   "outputs": [],
   "source": [
    "# average heatmaps for 0 hour time point\n",
    "\n",
    "AAave = np.zeros((2441, 2441))\n",
    "for r in np.arange(0, 2441,1):\n",
    "    for c in np.arange(0, 2441, 1):\n",
    "        nom = np.array([ AA20[r, c], AA30[r, c], AA40[r,c]])\n",
    "        denom = np.count_nonzero(nom) #count how many data points in nom are not zero\n",
    "        if denom != 0:\n",
    "            ave = np.sum(nom)/denom\n",
    "            AAave[r, c] = ave\n",
    "# turn anything not finite into 0 in the full matrix        \n",
    "AAave[~np.isfinite(AAave)] = 0"
   ]
  },
  {
   "cell_type": "code",
   "execution_count": null,
   "id": "623dafb6-ee7e-4eaf-96d4-2549885bc53a",
   "metadata": {},
   "outputs": [],
   "source": [
    "# average heatmaps for 2 hour time point\n",
    "\n",
    "\n",
    "AA2ave = np.zeros((2441, 2441))\n",
    "for r in np.arange(0, 2441,1):\n",
    "    for c in np.arange(0, 2441, 1):\n",
    "        nom = np.array([AA22[r, c], AA32[r, c], AA42[r,c]])\n",
    "        denom = np.count_nonzero(nom) #count how many data points in nom are not zero\n",
    "        if denom != 0:\n",
    "            ave = np.sum(nom)/denom\n",
    "            AA2ave[r, c] = ave\n",
    "# turn anything not finite into 0 in the full matrix        \n",
    "AA2ave[~np.isfinite(AA2ave)] = 0"
   ]
  },
  {
   "cell_type": "code",
   "execution_count": null,
   "id": "0831d5c6-b9ab-48e5-8fd3-15d2e21ecbfd",
   "metadata": {},
   "outputs": [],
   "source": [
    "# average heatmaps for 5 hour time point\n",
    "\n",
    "\n",
    "AA5ave = np.zeros((2441, 2441))\n",
    "for r in np.arange(0, 2441,1):\n",
    "    for c in np.arange(0, 2441, 1):\n",
    "        nom = np.array([AA25[r, c], AA35[r,c], AA45[r,c]])\n",
    "        denom = np.count_nonzero(nom) #count how many data points in nom are not zero\n",
    "        if denom != 0:\n",
    "            ave = np.sum(nom)/denom\n",
    "            AA5ave[r, c] = ave\n",
    "# turn anything not finite into 0 in the full matrix        \n",
    "AA5ave[~np.isfinite(AA5ave)] = 0"
   ]
  },
  {
   "cell_type": "code",
   "execution_count": null,
   "id": "5b0ee23e-f82b-428c-92b5-1a46f57328f0",
   "metadata": {},
   "outputs": [],
   "source": [
    "# ratio of 2 hour/DMSO and 5hour/DMSO\n",
    "\n",
    "AAave2_0 = divide_matrices(AA2ave,AAave,log2=True)\n",
    "AAave5_0 = divide_matrices(AA5ave,AAave,log2=True)"
   ]
  },
  {
   "cell_type": "markdown",
   "id": "fa6c4279-b592-4bee-89db-cf889c57183f",
   "metadata": {
    "jp-MarkdownHeadingCollapsed": true,
    "tags": []
   },
   "source": [
    "## Plotting log10 averaged"
   ]
  },
  {
   "cell_type": "code",
   "execution_count": null,
   "id": "60eb0930",
   "metadata": {},
   "outputs": [],
   "source": [
    "#plot settings\n",
    "\n",
    "mpl.rc('xtick', labelsize=12) \n",
    "mpl.rc('ytick', labelsize=12)\n",
    "mpl.rc('figure',figsize = [10.0, 10.0])\n",
    "# matplotlib.rc('axes',titlesize='large')\n",
    "\n",
    "font = {'size'   : 12}\n",
    "\n",
    "mpl.rc('font', **font)\n",
    "\n",
    "from matplotlib.ticker import LogFormatter \n",
    "from matplotlib.ticker import LogFormatterExponent # <-- one new import here"
   ]
  },
  {
   "cell_type": "code",
   "execution_count": null,
   "id": "bdc83b7f",
   "metadata": {},
   "outputs": [],
   "source": [
    "# DMSO\n",
    "plot_matrix(np.log10(AAave)[:end,:end],cmap='Oranges',center = False,vmin =0, vmax = 4 )\n",
    "plt.xlabel(None)\n",
    "plt.ylabel(None)\n",
    "\n",
    "# cb.ax.set_yticklabels(['a','b','c','d','e'])\n",
    "\n",
    "plt.xticks(chromosomes_interval,chrome_plots, rotation = 90)\n",
    "plt.yticks(chromosomes_interval,chrome_plots)\n",
    "plt.title('DMSO Contact Map')\n",
    "\n",
    "mpl.rc('xtick', labelsize=14) \n",
    "mpl.rc('ytick', labelsize=14)\n",
    "\n",
    "# plt.savefig('hic234plots/figures/AAave_log10.png')"
   ]
  },
  {
   "cell_type": "code",
   "execution_count": null,
   "id": "97ea7631-1f97-43da-b7ea-2ef798bf288b",
   "metadata": {},
   "outputs": [],
   "source": [
    "# 2hr\n",
    "\n",
    "plot_matrix(np.log10(AA2ave)[:end,:end],cmap='Oranges',center = False,vmin =0, vmax = 4 )\n",
    "plt.xlabel(None)\n",
    "plt.ylabel(None)\n",
    "\n",
    "# cb.ax.set_yticklabels(['a','b','c','d','e'])\n",
    "\n",
    "plt.xticks(chromosomes_interval,chrome_plots, rotation = 90)\n",
    "plt.yticks(chromosomes_interval,chrome_plots)\n",
    "\n",
    "plt.title('2h Contact Map')\n",
    "\n",
    "mpl.rc('xtick', labelsize=14) \n",
    "mpl.rc('ytick', labelsize=14)\n",
    "\n",
    "# plt.savefig('hic234plots/figures/AA2ave_log10.png')"
   ]
  },
  {
   "cell_type": "code",
   "execution_count": null,
   "id": "e122b4d7-2506-4d37-b213-0ab4501665ed",
   "metadata": {},
   "outputs": [],
   "source": [
    "# 5hr\n",
    "\n",
    "plot_matrix(np.log10(AA5ave)[:end,:end],cmap='Oranges',center = False,vmin =0, vmax = 4 )\n",
    "plt.xlabel(None)\n",
    "plt.ylabel(None)\n",
    "\n",
    "# cb.ax.set_yticklabels(['a','b','c','d','e'])\n",
    "\n",
    "plt.xticks(chromosomes_interval,chrome_plots, rotation = 90)\n",
    "plt.yticks(chromosomes_interval,chrome_plots)\n",
    "\n",
    "plt.title('5h Contact Map')\n",
    "\n",
    "mpl.rc('xtick', labelsize=14) \n",
    "mpl.rc('ytick', labelsize=14)\n",
    "\n",
    "# plt.savefig('hic234plots/figures/AA5ave_log10.png')"
   ]
  },
  {
   "cell_type": "markdown",
   "id": "96a00043-c51a-4312-9576-5909f3b02ba0",
   "metadata": {
    "tags": []
   },
   "source": [
    "## log2ratio replicate maps"
   ]
  },
  {
   "cell_type": "code",
   "execution_count": null,
   "id": "0b3a2d0c",
   "metadata": {},
   "outputs": [],
   "source": [
    "# Heatmap of ratio between different time points for different replicates"
   ]
  },
  {
   "cell_type": "code",
   "execution_count": null,
   "id": "b97013ab",
   "metadata": {},
   "outputs": [],
   "source": [
    "\n",
    "plot_matrix(AA22_AA20,cmap='bwr',center = True, vmin = -1.5,vcenter = 0, vmax=1.5)\n",
    "plt.xlabel(None)\n",
    "plt.ylabel(None)\n",
    "\n",
    "plt.xticks(chromosomes_interval,chrome_plots, rotation = 90)\n",
    "plt.yticks(chromosomes_interval,chrome_plots)\n",
    "\n",
    "plt.title('2hr/DMSO Log2 Ratio AA2')\n",
    "\n",
    "mpl.rc('xtick', labelsize=14) \n",
    "mpl.rc('ytick', labelsize=14)\n",
    "\n",
    "# plt.savefig('hic234plots/figures/AA22vAA20.png')"
   ]
  },
  {
   "cell_type": "code",
   "execution_count": null,
   "id": "fad127c4",
   "metadata": {},
   "outputs": [],
   "source": [
    "\n",
    "plot_matrix(AA25_AA20,cmap='bwr',center = True, vmin = -1.5,vcenter = 0, vmax=1.5)\n",
    "plt.xlabel(None)\n",
    "plt.ylabel(None)\n",
    "\n",
    "plt.xticks(chromosomes_interval,chrome_plots, rotation = 90)\n",
    "plt.yticks(chromosomes_interval,chrome_plots)\n",
    "\n",
    "plt.title('5hr/DMSO Log2 Ratio AA2')\n",
    "\n",
    "mpl.rc('xtick', labelsize=14) \n",
    "mpl.rc('ytick', labelsize=14)\n",
    "\n",
    "# plt.savefig('hic234plots/figures/AA25vAA20.png')"
   ]
  },
  {
   "cell_type": "code",
   "execution_count": null,
   "id": "cb005870-77a3-4fae-824b-e8e623d66e41",
   "metadata": {},
   "outputs": [],
   "source": [
    "\n",
    "plot_matrix(AA32_AA30,cmap='bwr',center = True, vmin = -1.5,vcenter = 0, vmax=1.5)\n",
    "plt.xlabel(None)\n",
    "plt.ylabel(None)\n",
    "\n",
    "plt.xticks(chromosomes_interval,chrome_plots, rotation = 90)\n",
    "plt.yticks(chromosomes_interval,chrome_plots)\n",
    "\n",
    "plt.title('2hr/DMSO Log2 Ratio AA3')\n",
    "\n",
    "mpl.rc('xtick', labelsize=14) \n",
    "mpl.rc('ytick', labelsize=14)\n",
    "\n",
    "# plt.savefig('hic234plots/figures/AA32vAA30.png')"
   ]
  },
  {
   "cell_type": "code",
   "execution_count": null,
   "id": "bd8a71a9-f728-4354-a3a7-7fb1b2803f03",
   "metadata": {},
   "outputs": [],
   "source": [
    "plot_matrix(AA35_AA30,cmap='bwr',center = True, vmin = -1.5,vcenter = 0, vmax=1.5)\n",
    "plt.xlabel(None)\n",
    "plt.ylabel(None)\n",
    "\n",
    "plt.xticks(chromosomes_interval,chrome_plots, rotation = 90)\n",
    "plt.yticks(chromosomes_interval,chrome_plots)\n",
    "\n",
    "plt.title('5hr/DMSO Log2 Ratio AA3')\n",
    "\n",
    "mpl.rc('xtick', labelsize=14) \n",
    "mpl.rc('ytick', labelsize=14)\n",
    "\n",
    "# plt.savefig('hic234plots/figures/AA35vAA30.png')"
   ]
  },
  {
   "cell_type": "code",
   "execution_count": null,
   "id": "b77cbf1c-a509-4bb4-8ea5-9e1cfde8feb5",
   "metadata": {},
   "outputs": [],
   "source": [
    "plot_matrix(AA42_AA40,cmap='bwr',center = True, vmin = -1.5,vcenter = 0, vmax=1.5)\n",
    "plt.xlabel(None)\n",
    "plt.ylabel(None)\n",
    "\n",
    "plt.xticks(chromosomes_interval,chrome_plots, rotation = 90)\n",
    "plt.yticks(chromosomes_interval,chrome_plots)\n",
    "\n",
    "plt.title('2hr/DMSO Log2 Ratio AA4')\n",
    "\n",
    "mpl.rc('xtick', labelsize=14) \n",
    "mpl.rc('ytick', labelsize=14)\n",
    "\n",
    "# plt.savefig('hic234plots/figures/AA42vAA40.png')"
   ]
  },
  {
   "cell_type": "code",
   "execution_count": null,
   "id": "3444a1c1-ad6c-404e-9670-aaf6404893c7",
   "metadata": {},
   "outputs": [],
   "source": [
    "plot_matrix(AA45_AA40,cmap='bwr',center = True, vmin = -1.5,vcenter = 0, vmax=1.5)\n",
    "plt.xlabel(None)\n",
    "plt.ylabel(None)\n",
    "\n",
    "plt.xticks(chromosomes_interval,chrome_plots, rotation = 90)\n",
    "plt.yticks(chromosomes_interval,chrome_plots)\n",
    "\n",
    "plt.title('5hr/DMSO Log2 Ratio AA4')\n",
    "\n",
    "mpl.rc('xtick', labelsize=14) \n",
    "mpl.rc('ytick', labelsize=14)\n",
    "\n",
    "# plt.savefig('hic234plots/figures/AA45vAA40.png')"
   ]
  },
  {
   "cell_type": "markdown",
   "id": "19117905",
   "metadata": {},
   "source": [
    "------"
   ]
  },
  {
   "cell_type": "markdown",
   "id": "cfabab4d-690e-4574-bc91-e0f93a80265c",
   "metadata": {
    "tags": []
   },
   "source": [
    "## Averaged heat map log2ratio"
   ]
  },
  {
   "cell_type": "code",
   "execution_count": null,
   "id": "5c28b8d1",
   "metadata": {},
   "outputs": [],
   "source": [
    "# Heat map ratio between time points averaged between the replicates"
   ]
  },
  {
   "cell_type": "code",
   "execution_count": null,
   "id": "c68e6648-8735-4898-a1dc-49428235f84b",
   "metadata": {},
   "outputs": [],
   "source": [
    "plot_matrix(AAave2_0,cmap='bwr',center = True, vmin = -1.5,vcenter = 0, vmax=1.5)\n",
    "plt.xlabel(None)\n",
    "plt.ylabel(None)\n",
    "\n",
    "plt.xticks(chromosomes_interval,chrome_plots, rotation = 90)\n",
    "plt.yticks(chromosomes_interval,chrome_plots)\n",
    "\n",
    "plt.title('2hr/DMSO Log2 Ratio Averaged')\n",
    "\n",
    "mpl.rc('xtick', labelsize=14) \n",
    "mpl.rc('ytick', labelsize=14)\n",
    "\n",
    "# plt.savefig('hic234plots/figures/AAave2_0.png')"
   ]
  },
  {
   "cell_type": "code",
   "execution_count": null,
   "id": "3686f801-a5e0-4ecb-9800-0d8b718f54e3",
   "metadata": {},
   "outputs": [],
   "source": [
    "plot_matrix(AAave5_0,cmap='bwr',center = True, vmin = -1.5,vcenter = 0, vmax=1.5)\n",
    "plt.xlabel(None)\n",
    "plt.ylabel(None)\n",
    "\n",
    "plt.xticks(chromosomes_interval,chrome_plots, rotation = 90)\n",
    "plt.yticks(chromosomes_interval,chrome_plots)\n",
    "\n",
    "plt.title('5hr/DMSO Log2 Ratio Averaged')\n",
    "\n",
    "mpl.rc('xtick', labelsize=14) \n",
    "mpl.rc('ytick', labelsize=14)\n",
    "\n",
    "# plt.savefig('hic234plots/figures/AAave5_0.png')"
   ]
  },
  {
   "cell_type": "markdown",
   "id": "74fa63c7-b7a7-4bf2-93e6-a2e52035932b",
   "metadata": {
    "jp-MarkdownHeadingCollapsed": true,
    "tags": []
   },
   "source": [
    "## Heatmaps of specific chromosome regions"
   ]
  },
  {
   "cell_type": "code",
   "execution_count": null,
   "id": "aa4c7907-a1e5-4fd6-b80c-ee8794b88307",
   "metadata": {},
   "outputs": [],
   "source": [
    "plot_matrix(np.log10(AAave),cmap='Oranges',center = False, vmin =0, vmax = 4, filt = True, filter_len=2)\n",
    "plt.xlabel(None)\n",
    "plt.ylabel(None)\n",
    "\n",
    "# cb.ax.set_yticklabels(['a','b','c','d','e'])\n",
    "\n",
    "plt.xticks(chromosomes_interval,chrome_plots, rotation = 90)\n",
    "plt.yticks(chromosomes_interval,chrome_plots)\n",
    "\n",
    "mpl.rc('xtick', labelsize=14) \n",
    "mpl.rc('ytick', labelsize=14)\n",
    "\n",
    "plt.xlim([1331, 2061])\n",
    "plt.ylim([1331, 1661])\n",
    "\n",
    "plt.title('DMSO Contact Map Ave')\n",
    "plt.savefig('hic234plots/figures/groups/AAave_cropped2_filt2.png')"
   ]
  },
  {
   "cell_type": "code",
   "execution_count": null,
   "id": "424e79f9-ed92-4657-a695-f062dc7f6c93",
   "metadata": {},
   "outputs": [],
   "source": [
    "plot_matrix(np.log10(AA2ave),cmap='Oranges',center = False, vmin =0, vmax = 4, filt = True, filter_len=2)\n",
    "plt.xlabel(None)\n",
    "plt.ylabel(None)\n",
    "\n",
    "# cb.ax.set_yticklabels(['a','b','c','d','e'])\n",
    "\n",
    "plt.xticks(chromosomes_interval,chrome_plots, rotation = 90)\n",
    "plt.yticks(chromosomes_interval,chrome_plots)\n",
    "\n",
    "mpl.rc('xtick', labelsize=14) \n",
    "mpl.rc('ytick', labelsize=14)\n",
    "\n",
    "plt.xlim([1331, 2061])\n",
    "plt.ylim([1331, 1661])\n",
    "\n",
    "plt.title('2hr Contact Map Ave')\n",
    "plt.savefig('hic234plots/figures/groups/AA2ave_cropped2_filt2.png')"
   ]
  },
  {
   "cell_type": "code",
   "execution_count": null,
   "id": "e3c5c7e7-2758-4a27-ab92-2e8e3702efa0",
   "metadata": {},
   "outputs": [],
   "source": [
    "plot_matrix(np.log10(AA5ave),cmap='Oranges',center = False, vmin =0, vmax = 4, filt = True, filter_len=2)\n",
    "plt.xlabel(None)\n",
    "plt.ylabel(None)\n",
    "\n",
    "# cb.ax.set_yticklabels(['a','b','c','d','e'])\n",
    "\n",
    "plt.xticks(chromosomes_interval,chrome_plots, rotation = 90)\n",
    "plt.yticks(chromosomes_interval,chrome_plots)\n",
    "\n",
    "mpl.rc('xtick', labelsize=14) \n",
    "mpl.rc('ytick', labelsize=14)\n",
    "\n",
    "plt.xlim([1331, 2061])\n",
    "plt.ylim([1331, 1661])\n",
    "\n",
    "plt.title('5hr Contact Map Ave')\n",
    "plt.savefig('hic234plots/figures/groups/AA5ave_cropped2_filt2.png')"
   ]
  },
  {
   "cell_type": "code",
   "execution_count": null,
   "id": "1965a67a-a378-4d6e-ac78-20a09904d640",
   "metadata": {},
   "outputs": [],
   "source": [
    "plot_matrix(AAave2_0,cmap='bwr',center = True, vmin = -1.25, vcenter = 0, vmax=1.25 , filt = True, filter_len = 0.5)\n",
    "plt.xlabel(None)\n",
    "plt.ylabel(None)\n",
    "\n",
    "plt.xticks(chromosomes_interval,chrome_plots, rotation = 90)\n",
    "plt.yticks(chromosomes_interval,chrome_plots)\n",
    "\n",
    "mpl.rc('xtick', labelsize=14) \n",
    "mpl.rc('ytick', labelsize=14)\n",
    "\n",
    "plt.xlim([1331, 2061])\n",
    "plt.ylim([1331, 1661])\n",
    "\n",
    "plt.title('Ave 2hr/DMSO Log2 Ratio')\n",
    "plt.savefig('hic234plots/figures/groups/AAave2_0_cropped2_filt05.png')"
   ]
  },
  {
   "cell_type": "code",
   "execution_count": null,
   "id": "116b06db-64fe-452f-ad9d-1749d2c16733",
   "metadata": {},
   "outputs": [],
   "source": [
    "plot_matrix(AAave5_0,cmap='bwr',center = True, vmin = -1.25,vcenter = 0, vmax=1.25, filt = True, filter_len = 0.5)\n",
    "plt.xlabel(None)\n",
    "plt.ylabel(None)\n",
    "\n",
    "plt.xticks(chromosomes_interval,chrome_plots, rotation = 90)\n",
    "plt.yticks(chromosomes_interval,chrome_plots)\n",
    "\n",
    "mpl.rc('xtick', labelsize=14) \n",
    "mpl.rc('ytick', labelsize=14)\n",
    "\n",
    "plt.xlim([1331, 2061])\n",
    "plt.ylim([1331, 1661])\n",
    "\n",
    "plt.title('Ave 5hr/DMSO Log2 Ratio')\n",
    "plt.savefig('hic234plots/figures/groups/AAave5_0_cropped2_filt05.png')"
   ]
  },
  {
   "cell_type": "markdown",
   "id": "c7225127-dfbf-4f17-8b0d-8360f6bf81eb",
   "metadata": {
    "tags": []
   },
   "source": [
    "## Individual chromosomes"
   ]
  },
  {
   "cell_type": "code",
   "execution_count": null,
   "id": "cdb95271-3b09-4bf8-8f99-7a76bf48391b",
   "metadata": {},
   "outputs": [],
   "source": [
    "AA2ave_chriv = call_region(AA2ave, b'chrIV', b'chrIV')\n",
    "plot_matrix(np.log10(AA2ave_chriv),cmap='Oranges',center = False, vmin =0, vmax = 4)\n",
    "\n",
    "plt.xticks(np.arange(len(AA2ave_chriv),step=int(len(AA2ave_chriv)/6)),np.arange(len(AA2ave_chriv),step=int(len(AA2ave_chriv)/6))*5)\n",
    "plt.yticks(np.arange(len(AA2ave_chriv),step=int(len(AA2ave_chriv)/6)),np.arange(len(AA2ave_chriv),step=int(len(AA2ave_chriv)/6))*5)\n",
    "mpl.rc('xtick', labelsize=20) \n",
    "mpl.rc('ytick', labelsize=20)\n",
    "\n",
    "plt.title('Ave 2hr Contact Map ChrIV')\n",
    "plt.savefig('hic234plots/figures/chromosomes/AA2ave_chriv.png')"
   ]
  },
  {
   "cell_type": "code",
   "execution_count": null,
   "id": "e1887756-20a3-4ef3-a71c-c1d6934a944a",
   "metadata": {},
   "outputs": [],
   "source": [
    "AAave2_0chriv = call_region(AAave2_0, b'chrIV', b'chrIV')\n",
    "plot_matrix(AAave2_0chriv,cmap='bwr',center = True, vmin = -1.5,vcenter = 0, vmax=1.5)\n",
    "\n",
    "plt.xticks(np.arange(len(AA2ave_chriv),step=int(len(AA2ave_chriv)/6)),np.arange(len(AA2ave_chriv),step=int(len(AA2ave_chriv)/6))*5)\n",
    "plt.yticks(np.arange(len(AA2ave_chriv),step=int(len(AA2ave_chriv)/6)),np.arange(len(AA2ave_chriv),step=int(len(AA2ave_chriv)/6))*5)\n",
    "mpl.rc('xtick', labelsize=20) \n",
    "mpl.rc('ytick', labelsize=20)\n",
    "\n",
    "plt.title('Ave 2hr/DMSO Log2 Ratio ChrIV')\n",
    "plt.savefig('hic234plots/figures/chromosomes/AAave2_0_chriv')"
   ]
  },
  {
   "cell_type": "code",
   "execution_count": null,
   "id": "f0826612-e07c-45fc-8af6-db990e387860",
   "metadata": {},
   "outputs": [],
   "source": [
    "AA5ave_chriv = call_region(AA5ave, b'chrIV', b'chrIV')\n",
    "plot_matrix(np.log10(AA5ave_chriv),cmap='Oranges',center = False, vmin =0, vmax = 4)\n",
    "\n",
    "plt.xticks(np.arange(len(AA2ave_chriv),step=int(len(AA2ave_chriv)/6)),np.arange(len(AA2ave_chriv),step=int(len(AA2ave_chriv)/6))*5)\n",
    "plt.yticks(np.arange(len(AA2ave_chriv),step=int(len(AA2ave_chriv)/6)),np.arange(len(AA2ave_chriv),step=int(len(AA2ave_chriv)/6))*5)\n",
    "mpl.rc('xtick', labelsize=20) \n",
    "mpl.rc('ytick', labelsize=20)\n",
    "\n",
    "plt.title('5hr Contact Map ChrIV')\n",
    "plt.savefig('hic234plots/figures/chromosomes/AA5ave_chriv.png')"
   ]
  },
  {
   "cell_type": "code",
   "execution_count": null,
   "id": "c168ba4a-d227-430b-9b95-d563ac8a89d0",
   "metadata": {},
   "outputs": [],
   "source": [
    "AAave5_0chriv = call_region(AAave5_0, b'chrIV', b'chrIV')\n",
    "plot_matrix(AAave5_0chriv,cmap='bwr',center = True, vmin = -1.5,vcenter = 0, vmax=1.5)\n",
    "\n",
    "plt.xticks(np.arange(len(AA2ave_chriv),step=int(len(AA2ave_chriv)/6)),np.arange(len(AA2ave_chriv),step=int(len(AA2ave_chriv)/6))*5)\n",
    "plt.yticks(np.arange(len(AA2ave_chriv),step=int(len(AA2ave_chriv)/6)),np.arange(len(AA2ave_chriv),step=int(len(AA2ave_chriv)/6))*5)\n",
    "mpl.rc('xtick', labelsize=20) \n",
    "mpl.rc('ytick', labelsize=20)\n",
    "\n",
    "plt.title('Ave 5hr/DMSO Log2 Ratio ChrIV')\n",
    "plt.savefig('hic234plots/figures/chromosomes/AAave5_0_chriv')"
   ]
  },
  {
   "cell_type": "code",
   "execution_count": null,
   "id": "2d402180-1073-4e35-bfa2-8e88171de249",
   "metadata": {},
   "outputs": [],
   "source": [
    "AAave5_0chriv = call_region(AAave5_0, b'chrIV', b'chrIV')\n",
    "plot_matrix(AAave5_0chriv,cmap='bwr',center = True, vmin = -1.5,vcenter = 0, vmax=1.5)\n",
    "\n",
    "plt.xticks(np.arange(len(AA2ave_chriv),step=int(len(AA2ave_chriv)/6)),np.arange(len(AA2ave_chriv),step=int(len(AA2ave_chriv)/6))*5)\n",
    "plt.yticks(np.arange(len(AA2ave_chriv),step=int(len(AA2ave_chriv)/6)),np.arange(len(AA2ave_chriv),step=int(len(AA2ave_chriv)/6))*5)\n",
    "mpl.rc('xtick', labelsize=20) \n",
    "mpl.rc('ytick', labelsize=20)\n",
    "\n",
    "plt.axvline(x=449.75/5, color='black', linestyle='--', linewidth=2)\n",
    "plt.axhline(y=449.75/5, color='black', linestyle='--', linewidth=2)\n",
    "\n",
    "plt.title('Ave 5hr/DMSO Log2 Ratio ChrIV')\n",
    "plt.savefig('hic234plots/figures/chromosomes/AAave5_0_chriv_CENmarked')"
   ]
  },
  {
   "cell_type": "code",
   "execution_count": null,
   "id": "3e6cb008-5536-4a0c-a92b-1b186ac2e53f",
   "metadata": {},
   "outputs": [],
   "source": [
    "AA2ave_chrii = call_region(AA2ave, b'chrII', b'chrII')\n",
    "plot_matrix(np.log10(AA2ave_chrii),cmap='Oranges',center = False, vmin =0, vmax = 4)\n",
    "\n",
    "plt.xticks(np.arange(len(AA2ave_chrii),step=int(len(AA2ave_chrii)/6)),np.arange(len(AA2ave_chrii),step=int(len(AA2ave_chrii)/6))*5)\n",
    "plt.yticks(np.arange(len(AA2ave_chrii),step=int(len(AA2ave_chrii)/6)),np.arange(len(AA2ave_chrii),step=int(len(AA2ave_chrii)/6))*5)\n",
    "mpl.rc('xtick', labelsize=20) \n",
    "mpl.rc('ytick', labelsize=20)\n",
    "\n",
    "plt.title('Ave 2hr Contact Map ChrII')\n",
    "plt.savefig('hic234plots/figures/chromosomes/AA2ave_chrii.png')"
   ]
  },
  {
   "cell_type": "code",
   "execution_count": null,
   "id": "71d83f08-92fd-4f76-bdd4-78c1a2cf86b8",
   "metadata": {},
   "outputs": [],
   "source": [
    "AAave2_0chrii = call_region(AAave2_0, b'chrII', b'chrII')\n",
    "plot_matrix(AAave2_0chrii,cmap='bwr',center = True, vmin = -1.5,vcenter = 0, vmax=1.5)\n",
    "\n",
    "plt.xticks(np.arange(len(AA2ave_chrii),step=int(len(AA2ave_chrii)/6)),np.arange(len(AA2ave_chrii),step=int(len(AA2ave_chrii)/6))*5)\n",
    "plt.yticks(np.arange(len(AA2ave_chrii),step=int(len(AA2ave_chrii)/6)),np.arange(len(AA2ave_chrii),step=int(len(AA2ave_chrii)/6))*5)\n",
    "mpl.rc('xtick', labelsize=20) \n",
    "mpl.rc('ytick', labelsize=20)\n",
    "\n",
    "plt.title('Ave 2hr/DMSO Log2 Ratio ChrII')\n",
    "plt.savefig('hic234plots/figures/chromosomes/AAave2_0_chrii')"
   ]
  },
  {
   "cell_type": "code",
   "execution_count": null,
   "id": "85fe70cc-60c6-4457-a661-7294d7039324",
   "metadata": {},
   "outputs": [],
   "source": [
    "AA5ave_chrii = call_region(AA5ave, b'chrII', b'chrII')\n",
    "plot_matrix(np.log10(AA5ave_chrii),cmap='Oranges',center = False, vmin =0, vmax = 4)\n",
    "\n",
    "plt.xticks(np.arange(len(AA2ave_chrii),step=int(len(AA2ave_chrii)/6)),np.arange(len(AA2ave_chrii),step=int(len(AA2ave_chrii)/6))*5)\n",
    "plt.yticks(np.arange(len(AA2ave_chrii),step=int(len(AA2ave_chrii)/6)),np.arange(len(AA2ave_chrii),step=int(len(AA2ave_chrii)/6))*5)\n",
    "mpl.rc('xtick', labelsize=20) \n",
    "mpl.rc('ytick', labelsize=20)\n",
    "\n",
    "plt.title('5hr Contact Map ChrII')\n",
    "plt.savefig('hic234plots/figures/chromosomes/AA5ave_chrii.png')"
   ]
  },
  {
   "cell_type": "code",
   "execution_count": null,
   "id": "7cb0c8ea-3333-40ce-a010-a3561e4a76ee",
   "metadata": {},
   "outputs": [],
   "source": [
    "AAave5_0chrii = call_region(AAave5_0, b'chrII', b'chrII')\n",
    "plot_matrix(AAave5_0chrii,cmap='bwr',center = True, vmin = -1.5,vcenter = 0, vmax=1.5)\n",
    "\n",
    "plt.xticks(np.arange(len(AA2ave_chrii),step=int(len(AA2ave_chrii)/6)),np.arange(len(AA2ave_chrii),step=int(len(AA2ave_chrii)/6))*5)\n",
    "plt.yticks(np.arange(len(AA2ave_chrii),step=int(len(AA2ave_chrii)/6)),np.arange(len(AA2ave_chrii),step=int(len(AA2ave_chrii)/6))*5)\n",
    "mpl.rc('xtick', labelsize=20) \n",
    "mpl.rc('ytick', labelsize=20)\n",
    "\n",
    "plt.title('Ave 5hr/DMSO Log2 Ratio ChrII')\n",
    "plt.savefig('hic234plots/figures/chromosomes/AAave5_0_chrii')"
   ]
  },
  {
   "cell_type": "code",
   "execution_count": null,
   "id": "ebe8b72a-a132-49f4-8be0-e0905ee6990a",
   "metadata": {},
   "outputs": [],
   "source": [
    "AAave5_0chrii = call_region(AAave5_0, b'chrII', b'chrII')\n",
    "plot_matrix(AAave5_0chrii,cmap='bwr',center = True, vmin = -1.5,vcenter = 0, vmax=1.5)\n",
    "\n",
    "plt.xticks(np.arange(len(AA2ave_chrii),step=int(len(AA2ave_chrii)/6)),np.arange(len(AA2ave_chrii),step=int(len(AA2ave_chrii)/6))*5)\n",
    "plt.yticks(np.arange(len(AA2ave_chrii),step=int(len(AA2ave_chrii)/6)),np.arange(len(AA2ave_chrii),step=int(len(AA2ave_chrii)/6))*5)\n",
    "mpl.rc('xtick', labelsize=20) \n",
    "mpl.rc('ytick', labelsize=20)\n",
    "\n",
    "plt.axvline(x=283.3/5, color='black', linestyle='--', linewidth=2)\n",
    "plt.axhline(y=283.3/5, color='black', linestyle='--', linewidth=2)\n",
    "\n",
    "plt.title('Ave 5hr/DMSO Log2 Ratio ChrII')\n",
    "plt.savefig('hic234plots/figures/chromosomes/AAave5_0_chrii_CENmarked')"
   ]
  },
  {
   "cell_type": "code",
   "execution_count": null,
   "id": "e987488f-b8e5-4d36-8253-c460064c1fc4",
   "metadata": {},
   "outputs": [],
   "source": [
    "AAave2_0chrxii = call_region(AAave2_0, b'chrXII', b'chrXII')\n",
    "plot_matrix(AAave2_0chrxii,cmap='bwr',center = True, vmin = -1.5,vcenter = 0, vmax=1.5)\n",
    "\n",
    "plt.xticks(np.arange(len(AAave2_0chrxii),step=int(len(AAave2_0chrxii)/6.1)),np.arange(len(AAave2_0chrxii),step=int(len(AAave2_0chrxii)/6.1))*5)\n",
    "plt.yticks(np.arange(len(AAave2_0chrxii),step=int(len(AAave2_0chrxii)/6.1)),np.arange(len(AAave2_0chrxii),step=int(len(AAave2_0chrxii)/6.1))*5)\n",
    "mpl.rc('xtick', labelsize=20) \n",
    "mpl.rc('ytick', labelsize=20)\n",
    "\n",
    "plt.title('Ave 2hr/DMSO Log2 Ratio ChrXII')\n",
    "plt.savefig('hic234plots/figures/chromosomes/AAave2_0_chrxii')"
   ]
  },
  {
   "cell_type": "code",
   "execution_count": null,
   "id": "131ca6a4-8e93-49ce-90e9-0c822c2fc97e",
   "metadata": {},
   "outputs": [],
   "source": [
    "AAave5_0chrxii = call_region(AAave5_0, b'chrXII', b'chrXII')\n",
    "plot_matrix(AAave5_0chrxii,cmap='bwr',center = True, vmin = -1.5,vcenter = 0, vmax=1.5)\n",
    "\n",
    "plt.xticks(np.arange(len(AAave2_0chrxii),step=int(len(AAave2_0chrxii)/6.1)),np.arange(len(AAave2_0chrxii),step=int(len(AAave2_0chrxii)/6.1))*5)\n",
    "plt.yticks(np.arange(len(AAave2_0chrxii),step=int(len(AAave2_0chrxii)/6.1)),np.arange(len(AAave2_0chrxii),step=int(len(AAave2_0chrxii)/6.1))*5)\n",
    "mpl.rc('xtick', labelsize=20) \n",
    "mpl.rc('ytick', labelsize=20)\n",
    "\n",
    "plt.title('Ave 5hr/DMSO Log2 Ratio ChrXII')\n",
    "plt.savefig('hic234plots/figures/chromosomes/AAave5_0_chrxii')"
   ]
  },
  {
   "cell_type": "code",
   "execution_count": null,
   "id": "607e9896-faaa-498c-8d3a-38c601af5dcd",
   "metadata": {},
   "outputs": [],
   "source": [
    "AAave5_0chrxii = call_region(AAave5_0, b'chrXII', b'chrXII')\n",
    "plot_matrix(AAave5_0chrxii,cmap='bwr',center = True, vmin = -1.5,vcenter = 0, vmax=1.5)\n",
    "\n",
    "plt.xticks(np.arange(len(AAave2_0chrxii),step=int(len(AAave2_0chrxii)/6.1)),np.arange(len(AAave2_0chrxii),step=int(len(AAave2_0chrxii)/6.1))*5)\n",
    "plt.yticks(np.arange(len(AAave2_0chrxii),step=int(len(AAave2_0chrxii)/6.1)),np.arange(len(AAave2_0chrxii),step=int(len(AAave2_0chrxii)/6.1))*5)\n",
    "mpl.rc('xtick', labelsize=20) \n",
    "mpl.rc('ytick', labelsize=20)\n",
    "\n",
    "plt.axvline(x=150.85/5, color='black', linestyle='--', linewidth=2)\n",
    "plt.axvline(x=460/5, color='black', linestyle='--', linewidth=2)\n",
    "plt.axhline(y=150.85/5, color='black', linestyle='--', linewidth=2)\n",
    "plt.axhline(y=460/5, color='black', linestyle='--', linewidth=2)\n",
    "\n",
    "plt.title('Ave 5hr/DMSO Log2 Ratio ChrXII')\n",
    "plt.savefig('hic234plots/figures/chromosomes/AAave5_0_chrxii_CEN_rDNA_marked')"
   ]
  },
  {
   "cell_type": "code",
   "execution_count": null,
   "id": "1eed40f9-6ab1-4999-a080-7e05a31f7a60",
   "metadata": {},
   "outputs": [],
   "source": []
  }
 ],
 "metadata": {
  "kernelspec": {
   "display_name": "Python 3 (ipykernel)",
   "language": "python",
   "name": "python3"
  },
  "language_info": {
   "codemirror_mode": {
    "name": "ipython",
    "version": 3
   },
   "file_extension": ".py",
   "mimetype": "text/x-python",
   "name": "python",
   "nbconvert_exporter": "python",
   "pygments_lexer": "ipython3",
   "version": "3.9.13"
  }
 },
 "nbformat": 4,
 "nbformat_minor": 5
}
