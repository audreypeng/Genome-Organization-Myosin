{
 "cells": [
  {
   "cell_type": "code",
   "execution_count": null,
   "id": "5677a6d8",
   "metadata": {},
   "outputs": [],
   "source": [
    "# import depencies\n",
    "from scipy.sparse import csr_matrix\n",
    "import tables\n",
    "import h5py\n",
    "import hdf5plugin\n",
    "\n",
    "import matplotlib.pyplot as plt\n",
    "import matplotlib.colors as colors\n",
    "import numpy as np\n",
    "import seaborn as sb\n",
    "from scipy import signal\n",
    "import glob\n",
    "\n",
    "import pandas as pd\n",
    "\n",
    "from mpl_toolkits.axes_grid1 import make_axes_locatable"
   ]
  },
  {
   "cell_type": "code",
   "execution_count": null,
   "id": "6980187e",
   "metadata": {},
   "outputs": [],
   "source": [
    "# scale figure\n",
    "import matplotlib as mpl\n",
    "mpl.rcParams['figure.dpi'] = 200"
   ]
  },
  {
   "cell_type": "markdown",
   "id": "cae39862-4c3b-4cb2-846a-5dd765c91ffe",
   "metadata": {},
   "source": [
    "## import all files names in the same folder, modify bin smize accodingly, stored under list file_names\n"
   ]
  },
  {
   "cell_type": "code",
   "execution_count": null,
   "id": "08209584-7443-44b2-8889-b19ed049faa4",
   "metadata": {},
   "outputs": [],
   "source": [
    "# import raw data files\n",
    "\n",
    "file_names = []\n",
    "for name in glob.glob('../hic234/*_5kb.h5'):\n",
    "    file_names.append(name)"
   ]
  },
  {
   "cell_type": "code",
   "execution_count": null,
   "id": "f18fcb53",
   "metadata": {},
   "outputs": [],
   "source": [
    "# import HiC heat map data as a matrix\n",
    "\n",
    "#argument:\n",
    "# filename: input name of the file you wish to import matrix for\n",
    "\n",
    "#output:\n",
    "#the heat map itself as a matrix\n",
    "\n",
    "def make_matrix(filename):\n",
    "    with tables.open_file(filename, 'r') as f:\n",
    "        parts = {}\n",
    "        try:\n",
    "            for matrix_part in ('data', 'indices', 'indptr', 'shape'):\n",
    "                parts[matrix_part] = getattr(f.root.matrix, matrix_part).read()\n",
    "        except Exception as e:\n",
    "            log.info('No h5 file. Please check parameters concerning the file type!')\n",
    "            e\n",
    "        matrix = csr_matrix(tuple([parts['data'], parts['indices'], parts['indptr']]),\n",
    "                            shape=parts['shape'])\n",
    "        matrix_array = matrix.toarray()\n",
    "    return matrix_array"
   ]
  },
  {
   "cell_type": "code",
   "execution_count": null,
   "id": "e4c91791",
   "metadata": {},
   "outputs": [],
   "source": [
    "#import interval information, contains list of indices and chromosome that they correspond to\n",
    "\n",
    "#argument:\n",
    "# filename: input name of the file you wish to import intervals for\n",
    "\n",
    "#output:\n",
    "#interval_list: list of chromosomes, indices\n",
    "#keychr: keys to access different list from interval_list\n",
    "\n",
    "\n",
    "def get_intervals(filename):\n",
    "    file = h5py.File(filename)\n",
    "    key_list = file['intervals'].keys()\n",
    "    interval_list = {}\n",
    "    for key in key_list:\n",
    "        interval_list[key] = file['intervals'][key][()]\n",
    "    keychr = list(key_list)\n",
    "    return interval_list, keychr"
   ]
  },
  {
   "cell_type": "code",
   "execution_count": null,
   "id": "dd0b7326",
   "metadata": {},
   "outputs": [],
   "source": [
    "#generate a matrix for specific chromosome vs chromosome interaction\n",
    "\n",
    "#argument:\n",
    "#ma: matrix of heatmap\n",
    "#chromosome_x: chromosome to use for x axis\n",
    "#chromosome_y: chromosome to use for y axis\n",
    "\n",
    "#output:\n",
    "#matrix of desired region\n",
    "\n",
    "\n",
    "def call_region(ma,chromosome_x,chromosome_y):\n",
    "    start_x = indices[chromosome_x]['start']\n",
    "    end_x = indices[chromosome_x]['end']\n",
    "    \n",
    "    start_y = indices[chromosome_y]['start']\n",
    "    end_y = indices[chromosome_y]['end']\n",
    "    \n",
    "    return  ma[start_x:end_x,start_y:end_y]"
   ]
  },
  {
   "cell_type": "code",
   "execution_count": null,
   "id": "1e08ed4f",
   "metadata": {},
   "outputs": [],
   "source": [
    "# chunky code to get the end index for regions, requried for get_indices function\n",
    "# argument:\n",
    "# chrlist: full list of which chromosome each index correspond to\n",
    "\n",
    "#output:\n",
    "#end: end index for each chromosome\n",
    "\n",
    "\n",
    "def get_end_idx(chrlist):\n",
    "    start = {}\n",
    "    end = {}\n",
    "    i = 0\n",
    "    for chromes in chrlist:\n",
    "        if chromes == b'chrIV':\n",
    "            end[chromes] = i\n",
    "            i+=1\n",
    "        elif chromes == b'chrXV':\n",
    "            end[chromes] = i\n",
    "            i+=1\n",
    "        elif chromes == b'chrVII':\n",
    "            end[chromes] = i\n",
    "            i+=1\n",
    "        elif chromes == b'chrXII':\n",
    "            end[chromes] = i\n",
    "            i+=1\n",
    "        elif chromes == b'chrXVI':\n",
    "            end[chromes] = i\n",
    "            i+=1\n",
    "        elif chromes == b'chrXIII':\n",
    "            end[chromes] = i\n",
    "            i+=1\n",
    "        elif chromes == b'chrII':\n",
    "            end[chromes] = i\n",
    "            i+=1\n",
    "        elif chromes == b'chrXIV':\n",
    "            end[chromes] = i\n",
    "            i+=1\n",
    "        elif chromes == b'chrX':\n",
    "            end[chromes] = i\n",
    "            i+=1\n",
    "        elif chromes == b'chrXI':\n",
    "            end[chromes] = i\n",
    "            i+=1\n",
    "        elif chromes == b'chrV':\n",
    "            end[chromes] = i\n",
    "            i+=1\n",
    "        elif chromes == b'chrVIII':\n",
    "            end[chromes] = i\n",
    "            i+=1\n",
    "        elif chromes == b'chrIX':\n",
    "            end[chromes] = i\n",
    "            i+=1\n",
    "        elif chromes == b'chrIII':\n",
    "            end[chromes] = i\n",
    "            i+=1\n",
    "        elif chromes == b'chrVI':\n",
    "            end[chromes] = i\n",
    "            i+=1\n",
    "        elif chromes == b'chrI':\n",
    "            end[chromes] = i\n",
    "            i+=1\n",
    "        elif chromes == b'chrM':\n",
    "            end[chromes] = i\n",
    "            i+=1\n",
    "        else:\n",
    "            break\n",
    "    return end"
   ]
  },
  {
   "cell_type": "code",
   "execution_count": null,
   "id": "b0459035",
   "metadata": {},
   "outputs": [],
   "source": [
    "# makes a dictionary of each chromosomes start and end index\n",
    "\n",
    "# argument:\n",
    "# chromosomes: the list of chromosomes\n",
    "# end_idx: output of get_end_idx\n",
    "\n",
    "#output:\n",
    "#idxs: dictionary of each chromosomes start and end index\n",
    "\n",
    "def get_indices(chromosomes,end_idx):\n",
    "    idxs = {}\n",
    "    next_start = 0\n",
    "    for chromes in chromosomes:\n",
    "        idxs[chromes] = {}\n",
    "        idxs[chromes]['end'] = end_idx[chromes]+1\n",
    "\n",
    "        if chromes == str(b'chrIV'):\n",
    "            idxs[chromes]['start'] = 0\n",
    "        else:\n",
    "            idxs[chromes]['start'] = next_start\n",
    "        next_start = end_idx[chromes]+1\n",
    "        \n",
    "    return idxs"
   ]
  },
  {
   "cell_type": "code",
   "execution_count": null,
   "id": "ec4a0d2a",
   "metadata": {},
   "outputs": [],
   "source": [
    "#divide 2 matrices\n",
    "\n",
    "#argument: \n",
    "#nom_matrix: matrix on the nominator\n",
    "#denom_matrix: matrix on the denominator\n",
    "#log2: whether to apply log2 to output matrix\n",
    "\n",
    "#output:\n",
    "#matrix: matrix after division\n",
    "\n",
    "def divide_matrices(nom_matrix, denom_matrix, log2 = True):\n",
    "    divide_matrix = nom_matrix/denom_matrix\n",
    "    if log2:\n",
    "        matrix = np.log2(divide_matrix)\n",
    "        matrix[~np.isfinite(matrix)] = 0\n",
    "    else:\n",
    "        matrix = divide_matrix\n",
    "        matrix[~np.isfinite(matrix)] = 0\n",
    "    return matrix"
   ]
  },
  {
   "cell_type": "code",
   "execution_count": null,
   "id": "65a3bbc6",
   "metadata": {},
   "outputs": [],
   "source": [
    "#make the triangular matrix a full matrix by duplicating its diagonal counterpart\n",
    "\n",
    "#argument:\n",
    "#ma: matrix of heatmap\n",
    "\n",
    "#output:\n",
    "# full_matrix\n",
    "\n",
    "def make_symmetric(ma):\n",
    "    rotmatrix = np.transpose(ma)\n",
    "    np.fill_diagonal(rotmatrix,0)\n",
    "    full_matrix = ma + rotmatrix\n",
    "    return full_matrix"
   ]
  },
  {
   "cell_type": "code",
   "execution_count": null,
   "id": "2c3f2bd8",
   "metadata": {},
   "outputs": [],
   "source": [
    "# import h5 files and produce the full matrix\n",
    "\n",
    "#argument:\n",
    "#filename: file name of the data to import\n",
    "\n",
    "#output:\n",
    "# full_matrix\n",
    "\n",
    "def make_symm_matrix(filename):\n",
    "    with tables.open_file(filename, 'r') as f:\n",
    "        parts = {}\n",
    "        try:\n",
    "            for matrix_part in ('data', 'indices', 'indptr', 'shape'):\n",
    "                parts[matrix_part] = getattr(f.root.matrix, matrix_part).read()\n",
    "        except Exception as e:\n",
    "            log.info('No h5 file. Please check parameters concerning the file type!')\n",
    "            e\n",
    "        matrix = csr_matrix(tuple([parts['data'], parts['indices'], parts['indptr']]),\n",
    "                            shape=parts['shape'])\n",
    "        matrix_array = matrix.toarray()\n",
    "        \n",
    "        full_ma = make_symmetric(matrix_array)\n",
    "\n",
    "    return full_ma"
   ]
  },
  {
   "cell_type": "code",
   "execution_count": null,
   "id": "60fb3d23",
   "metadata": {},
   "outputs": [],
   "source": [
    "# 2d filter the matrix, eliminate high frequency noise\n",
    "\n",
    "#argument:\n",
    "#ma: matrix\n",
    "#filter_length: length to apply the filter, larger length decreases max signal frequency\n",
    "\n",
    "#output:\n",
    "#filtered_ma: matrix after apply filtering\n",
    "\n",
    "def filtering(ma, filter_length = 5):\n",
    "    filtered_ma = signal.spline_filter(ma,lmbda=filter_length)\n",
    "    return filtered_ma"
   ]
  },
  {
   "cell_type": "code",
   "execution_count": null,
   "id": "a41d8adb",
   "metadata": {},
   "outputs": [],
   "source": [
    "# plot the matrix as a heatmap\n",
    "\n",
    "def plot_matrix(ma, filt = None,filter_len=0, symmetric = True, hlim = None,vlim =None, center=False, interpolation =None, cmap = 'RdYlBu_r', fig_size = 15,vcenter=None, vmin = None, vmax = None ):\n",
    "    fig, ax = plt.subplots()\n",
    "\n",
    "    ma[~np.isfinite(ma)] = 0\n",
    "    if filt:\n",
    "        filtered_ma = filtering(ma,filter_length = filter_len)\n",
    "    else:\n",
    "        filtered_ma = ma\n",
    "    if symmetric:\n",
    "        full_ma = filtered_ma\n",
    "    else:\n",
    "        full_ma = make_symmetric(filtered_ma)\n",
    "    if center:\n",
    "        norm = colors.TwoSlopeNorm(vmin=vmin, vcenter=vcenter, vmax=vmax)\n",
    "        im = ax.imshow(full_ma,cmap = cmap,norm=norm)\n",
    "    else:\n",
    "        im = ax.imshow(full_ma,cmap = cmap,interpolation = interpolation,vmin = vmin, vmax = vmax)\n",
    "    plt.ylim(vlim)\n",
    "    plt.xlim(hlim)\n",
    "    cb = fig.colorbar(im,fraction=0.046, pad=0.04)\n"
   ]
  },
  {
   "cell_type": "code",
   "execution_count": null,
   "id": "09e94c0a",
   "metadata": {},
   "outputs": [],
   "source": [
    "# use this to average only the nonzero values. To include also empty values, use np.average(ma)\n",
    "# note this can also be done for 1d array\n",
    "#argument:\n",
    "#ma: matrix of interest\n",
    "\n",
    "#output:\n",
    "# averaged value of matrix\n",
    "\n",
    "def finite_average(ma):\n",
    "    return np.sum(ma)/np.count_nonzero(ma)"
   ]
  },
  {
   "cell_type": "markdown",
   "id": "4519a9d9-83b6-41fd-9fb8-8b18a6e9cd32",
   "metadata": {},
   "source": [
    "## Import data"
   ]
  },
  {
   "cell_type": "code",
   "execution_count": null,
   "id": "d0ad2af1",
   "metadata": {},
   "outputs": [],
   "source": [
    "#get the interval and key information, choose which file to use with file_names\n",
    "\n",
    "interval ,keychr = get_intervals(file_names[0])\n",
    "print(interval)\n",
    "print(keychr)"
   ]
  },
  {
   "cell_type": "code",
   "execution_count": null,
   "id": "bb0d1930",
   "metadata": {},
   "outputs": [],
   "source": [
    "# list of chromosomes\n",
    "\n",
    "chromosomes = [b'chrIV',b'chrXV',b'chrVII',b'chrXII',b'chrXVI',b'chrXIII',b'chrII',b'chrXIV',b'chrX',b'chrXI',b'chrV',b'chrVIII',b'chrIX',b'chrIII',b'chrVI',b'chrI',b'chrM']"
   ]
  },
  {
   "cell_type": "code",
   "execution_count": null,
   "id": "cb493b66",
   "metadata": {},
   "outputs": [],
   "source": [
    "# get start and end indices corresponding to each chromosomes\n",
    "\n",
    "indices = get_indices(chromosomes,get_end_idx(interval[keychr[0]]))\n",
    "\n",
    "print(indices)"
   ]
  },
  {
   "cell_type": "code",
   "execution_count": null,
   "id": "445d8f6f",
   "metadata": {},
   "outputs": [],
   "source": [
    "# get symmetric matrices from the files, naming nomenclature example: AA22 stands for Anchor Away 1st replicate of 2 hour time point\n",
    "\n",
    "AA20 = make_symm_matrix(file_names[5])\n",
    "AA22 = make_symm_matrix(file_names[3])\n",
    "AA25 = make_symm_matrix(file_names[6])\n",
    "AA30 = make_symm_matrix(file_names[4])\n",
    "AA32 = make_symm_matrix(file_names[2])\n",
    "AA35 = make_symm_matrix(file_names[7])\n",
    "AA40 = make_symm_matrix(file_names[0])\n",
    "AA42 = make_symm_matrix(file_names[1])\n",
    "AA45 = make_symm_matrix(file_names[8])"
   ]
  },
  {
   "cell_type": "markdown",
   "id": "19117905",
   "metadata": {},
   "source": [
    "------"
   ]
  },
  {
   "cell_type": "markdown",
   "id": "2197f197-c34e-4edd-923c-b2e246a4c9a9",
   "metadata": {
    "tags": []
   },
   "source": [
    "## Averaging matrices"
   ]
  },
  {
   "cell_type": "code",
   "execution_count": null,
   "id": "10310070",
   "metadata": {},
   "outputs": [],
   "source": [
    "# average heatmaps for 0 hour time point\n",
    "\n",
    "AAave = np.zeros((2441, 2441))\n",
    "for r in np.arange(0, 2441,1):\n",
    "    for c in np.arange(0, 2441, 1):\n",
    "        nom = np.array([ AA20[r, c], AA30[r, c], AA40[r,c]])\n",
    "        denom = np.count_nonzero(nom) #count how many data points in nom are not zero\n",
    "        if denom != 0:\n",
    "            ave = np.sum(nom)/denom\n",
    "            AAave[r, c] = ave\n",
    "# turn anything not finite into 0 in the full matrix        \n",
    "AAave[~np.isfinite(AAave)] = 0"
   ]
  },
  {
   "cell_type": "code",
   "execution_count": null,
   "id": "b4783b37",
   "metadata": {},
   "outputs": [],
   "source": [
    "# average heatmaps for 2 hour time point\n",
    "\n",
    "AA2ave = np.zeros((2441, 2441))\n",
    "for r in np.arange(0, 2441,1):\n",
    "    for c in np.arange(0, 2441, 1):\n",
    "        nom = np.array([AA22[r, c], AA32[r, c], AA42[r,c]])\n",
    "        denom = np.count_nonzero(nom) #count how many data points in nom are not zero\n",
    "        if denom != 0:\n",
    "            ave = np.sum(nom)/denom\n",
    "            AA2ave[r, c] = ave\n",
    "# turn anything not finite into 0 in the full matrix        \n",
    "AA2ave[~np.isfinite(AA2ave)] = 0"
   ]
  },
  {
   "cell_type": "code",
   "execution_count": null,
   "id": "0e3900ae",
   "metadata": {},
   "outputs": [],
   "source": [
    "# average heatmaps for 5 hour time point\n",
    "\n",
    "AA5ave = np.zeros((2441, 2441))\n",
    "for r in np.arange(0, 2441,1):\n",
    "    for c in np.arange(0, 2441, 1):\n",
    "        nom = np.array([AA25[r, c], AA35[r,c], AA45[r,c]])\n",
    "        denom = np.count_nonzero(nom) #count how many data points in nom are not zero\n",
    "        if denom != 0:\n",
    "            ave = np.sum(nom)/denom\n",
    "            AA5ave[r, c] = ave\n",
    "# turn anything not finite into 0 in the full matrix        \n",
    "AA5ave[~np.isfinite(AA5ave)] = 0"
   ]
  },
  {
   "cell_type": "code",
   "execution_count": null,
   "id": "81d6d2e8",
   "metadata": {},
   "outputs": [],
   "source": [
    "# ratio of 2 hour/DMSO and 5hour/DMSO\n",
    "\n",
    "AAave2_0 = divide_matrices(AA2ave,AAave,log2=True)\n",
    "AAave5_0 = divide_matrices(AA5ave,AAave,log2=True)"
   ]
  },
  {
   "cell_type": "markdown",
   "id": "dee935e2-0272-4d03-a3b7-b1c3e05cbd54",
   "metadata": {},
   "source": [
    "## Gene expression-Contact Frequency Volcano plot - 2h"
   ]
  },
  {
   "cell_type": "code",
   "execution_count": null,
   "id": "a2721a6d-7ca8-4dc4-b1a0-77f19b535d11",
   "metadata": {},
   "outputs": [],
   "source": [
    "# import list of genes from rna-seq analysis\n",
    "\n",
    "ds2 = pd.read_csv('ds2h_idx.txt', delimiter='\\t')"
   ]
  },
  {
   "cell_type": "code",
   "execution_count": null,
   "id": "570872ab-a9f6-430a-ba65-8e7c83fc18a8",
   "metadata": {},
   "outputs": [],
   "source": [
    "ds2idx_array = ds2.iloc[:,5].values\n",
    "ds2gs_array = (ds2.iloc[:,0].values)\n",
    "ds2chr_array = ds2.iloc[:,4].values"
   ]
  },
  {
   "cell_type": "code",
   "execution_count": null,
   "id": "0ec070c8-a6e9-415f-a19b-6f77e9578527",
   "metadata": {},
   "outputs": [],
   "source": [
    "geneslist = ds2gs_array.tolist()\n",
    "genes_idx = dict(zip(ds2gs_array, zip(ds2idx_array, ds2chr_array)))"
   ]
  },
  {
   "cell_type": "code",
   "execution_count": null,
   "id": "f1ba6e03-37e7-4d79-a443-612fddf7db9e",
   "metadata": {},
   "outputs": [],
   "source": [
    "chromosomes = [4, 15, 7, 12, 16, 13, 2, 14, 10, 11, 5, 8, 9, 3, 6, 1]\n",
    "chrstart = [0, 307, 526, 745, 961, 1151, 1336, 1499, 1656, 1806, 1940, 2056, 2169, 2257, 2321, 2376]\n",
    "\n",
    "chrom_dict = dict(zip(chromosomes,chrstart))"
   ]
  },
  {
   "cell_type": "code",
   "execution_count": null,
   "id": "40299cef-51e8-48b4-862e-93c932d7620a",
   "metadata": {},
   "outputs": [],
   "source": [
    "chromosomesr = [b'chrIV',b'chrXV',b'chrVII',b'chrXII',b'chrXVI',b'chrXIII',b'chrII',b'chrXIV',b'chrX',b'chrXI',b'chrV',b'chrVIII',b'chrIX',b'chrIII',b'chrVI',b'chrI']"
   ]
  },
  {
   "cell_type": "code",
   "execution_count": null,
   "id": "06889d95-5083-4fb2-8bae-cfdcb12c4ba4",
   "metadata": {},
   "outputs": [],
   "source": [
    "chrlength = []\n",
    "for chrom in chromosomesr:\n",
    "    chrlength.append(len(call_region(AAave2_0, chrom, chrom)))"
   ]
  },
  {
   "cell_type": "code",
   "execution_count": null,
   "id": "95349663-5b2c-4fc8-8f6a-d1bda76d8ed7",
   "metadata": {},
   "outputs": [],
   "source": [
    "chrom_length = dict(zip(chromosomes,chrlength))"
   ]
  },
  {
   "cell_type": "code",
   "execution_count": null,
   "id": "4d4cd83b-b626-428c-9fd5-d72272786c3a",
   "metadata": {},
   "outputs": [],
   "source": [
    "newidx = []\n",
    "for gene in geneslist:\n",
    "        chrom = genes_idx[gene][1]\n",
    "        gene_idx = genes_idx[gene][0]\n",
    "        for chroms in chromosomes:\n",
    "            idx_start=chrom_dict[chroms]\n",
    "            if chrom == chroms:\n",
    "                newidx.append(idx_start+gene_idx)\n",
    "\n",
    "gene_dict = dict(zip(geneslist,newidx))"
   ]
  },
  {
   "cell_type": "code",
   "execution_count": null,
   "id": "ec745e2b-b5b4-454c-95da-fbf90ee17ce5",
   "metadata": {},
   "outputs": [],
   "source": [
    "# Interaction distance between gene of interest and a 25/100/500kb site away. Bins are in 5kb. \n",
    "\n",
    "interaction_region = 20"
   ]
  },
  {
   "cell_type": "code",
   "execution_count": null,
   "id": "e276b0b8-b91b-477e-91a8-363a5fad46db",
   "metadata": {},
   "outputs": [],
   "source": [
    "gene_list = ds2gs_array.tolist()\n",
    "\n",
    "cf_list = []\n",
    "\n",
    "for gene in gene_list:\n",
    "    idx = gene_dict[gene]\n",
    "    ma = AAave2_0\n",
    "    oldidx = genes_idx[gene][0]+interaction_region\n",
    "    # chrlength = idx_length[gene][1]\n",
    "    cnumber = genes_idx[gene][1]\n",
    "    clength = chrom_length[cnumber]\n",
    "    if genes_idx[gene][0] > interaction_region:\n",
    "        if oldidx > clength:\n",
    "            ave_cf = ma[idx, idx-interaction_region]\n",
    "        else:\n",
    "            ave_cf = finite_average([ma[idx, idx-interaction_region], ma[idx, idx+interaction_region]])\n",
    "        cf_list.append(ave_cf)\n",
    "    else:\n",
    "        cf_list.append(0)\n",
    "\n",
    "gene_cflist = list(zip(gene_list, cf_list))"
   ]
  },
  {
   "cell_type": "code",
   "execution_count": null,
   "id": "62b71018-62bb-4078-98d3-5f18bc6d0557",
   "metadata": {},
   "outputs": [],
   "source": [
    "ds2['log2fcContactfrequency'] = cf_list"
   ]
  },
  {
   "cell_type": "code",
   "execution_count": null,
   "id": "ff9d477c-3639-4194-96c1-036feaeb732a",
   "metadata": {},
   "outputs": [],
   "source": [
    "#get average cf\n",
    "cf_array = np.array(cf_list)\n",
    "cf_array[~np.isfinite(cf_array)] = 0\n",
    "finite_average(cf_array)"
   ]
  },
  {
   "cell_type": "code",
   "execution_count": null,
   "id": "b49794cb-5637-4ff4-9553-9b2157b5d2be",
   "metadata": {},
   "outputs": [],
   "source": [
    "plt.figure(figsize=(8,5))\n",
    "ds2_cf_array = np.array(ds2['log2fcContactfrequency'])\n",
    "ds2_cf_array[ds2_cf_array == 0] = 'nan'\n",
    "plt.scatter(ds2['log2FoldChange'], -np.log10(ds2['padj']), c=ds2_cf_array, s=15, cmap = 'bwr', vmin=-1, vmax=1, alpha=1)\n",
    "plt.xlabel('log2FoldChange', fontsize=15)\n",
    "plt.ylabel('-Log10P', fontsize=15)\n",
    "plt.grid(True)\n",
    "cb= plt.colorbar()\n",
    "cb.set_label('log2fcContactfrequency', fontsize=10)\n",
    "plt.xlim(-7.5,10)\n",
    "plt.ylim(-1,34)\n",
    "plt.xticks([-5,0,5])\n",
    "#plt.yticks([0,10,20,30])\n",
    "\n",
    "plt.title('2h/DMSO - interactions with 100kB, All genes')\n",
    "# plt.show()\n",
    "\n",
    "plt.savefig('hic234plots/Deseq2h_100kb.png', dpi=200)"
   ]
  },
  {
   "cell_type": "markdown",
   "id": "4fbc502a-8d11-4554-8415-cd8d9d6be49e",
   "metadata": {},
   "source": [
    "## Gene expression-Contact Frequency Volcano plot - 5h"
   ]
  },
  {
   "cell_type": "code",
   "execution_count": null,
   "id": "d1d18e9e-bad9-4fcf-baf5-2dd87784f0c0",
   "metadata": {},
   "outputs": [],
   "source": [
    "ds5 = pd.read_csv('ds5h_idx.txt', delimiter='\\t')"
   ]
  },
  {
   "cell_type": "code",
   "execution_count": null,
   "id": "37a5e551-8d70-41f4-94cc-8013194c92e1",
   "metadata": {},
   "outputs": [],
   "source": [
    "ds5idx_array = ds5.iloc[:,5].values\n",
    "ds5gs_array = (ds5.iloc[:,0].values)\n",
    "ds5chr_array = ds5.iloc[:,4].values"
   ]
  },
  {
   "cell_type": "code",
   "execution_count": null,
   "id": "b3616552-28ff-457c-9642-0655b6234ab3",
   "metadata": {},
   "outputs": [],
   "source": [
    "geneslist = ds5gs_array.tolist()\n",
    "genes_idx = dict(zip(ds5gs_array, zip(ds5idx_array, ds5chr_array)))"
   ]
  },
  {
   "cell_type": "code",
   "execution_count": null,
   "id": "75a29872-1ed2-44fd-8040-58071b53d9b2",
   "metadata": {},
   "outputs": [],
   "source": [
    "newidx = []\n",
    "for gene in geneslist:\n",
    "        chrom = genes_idx[gene][1]\n",
    "        gene_idx = genes_idx[gene][0]\n",
    "        for chroms in chromosomes:\n",
    "            idx_start=chrom_dict[chroms]\n",
    "            if chrom == chroms:\n",
    "                newidx.append(idx_start+gene_idx)\n",
    "\n",
    "gene_dict = dict(zip(geneslist,newidx))"
   ]
  },
  {
   "cell_type": "code",
   "execution_count": null,
   "id": "5648adac-1a2c-4d05-a666-bba190595159",
   "metadata": {},
   "outputs": [],
   "source": [
    "# Interaction distance between gene of interest and a 25/100/500kb site away. Bins are in 5kb. \n",
    "\n",
    "interaction_region = 100"
   ]
  },
  {
   "cell_type": "code",
   "execution_count": null,
   "id": "4d1b83d7-fa1a-48b0-bfa6-3ba81c4aa300",
   "metadata": {},
   "outputs": [],
   "source": [
    "gene_list = ds5gs_array.tolist()\n",
    "\n",
    "cf_list = []\n",
    "\n",
    "for gene in gene_list:\n",
    "    idx = gene_dict[gene]\n",
    "    ma = AAave5_0\n",
    "    oldidx = genes_idx[gene][0]+interaction_region\n",
    "    cnumber = genes_idx[gene][1]\n",
    "    clength = chrom_length[cnumber]\n",
    "    if genes_idx[gene][0] > interaction_region:\n",
    "        if oldidx > clength:\n",
    "            ave_cf = ma[idx, idx-interaction_region]\n",
    "        else:\n",
    "            ave_cf = finite_average([ma[idx, idx-interaction_region], ma[idx, idx+interaction_region]])\n",
    "        cf_list.append(ave_cf)\n",
    "    else:\n",
    "        cf_list.append(0)\n",
    "\n",
    "gene_cflist = list(zip(gene_list, cf_list))"
   ]
  },
  {
   "cell_type": "code",
   "execution_count": null,
   "id": "0ef31147-e058-4e91-99a5-3ef2c46268b3",
   "metadata": {},
   "outputs": [],
   "source": [
    "ds5['log2fcContactfrequency'] = cf_list"
   ]
  },
  {
   "cell_type": "code",
   "execution_count": null,
   "id": "07b1f046-2837-4d88-a268-04a58359d0b9",
   "metadata": {},
   "outputs": [],
   "source": [
    "plt.figure(figsize=(8,5)) \n",
    "plt.scatter(ds5['log2FoldChange'], -np.log10(ds5['padj']), c=ds5['log2fcContactfrequency'], s=15, cmap = 'bwr', vmin=-1, vmax=1, alpha=1)\n",
    "plt.xlabel('log2FoldChange', fontsize=15)\n",
    "plt.ylabel('-Log10P', fontsize=15)\n",
    "plt.grid(True)\n",
    "cb= plt.colorbar()\n",
    "cb.set_label('log2fcContactfrequency', fontsize=10)\n",
    "plt.xlim(-7.5,10)\n",
    "plt.ylim(-1,34)\n",
    "plt.xticks([-5,0,5])\n",
    "#plt.yticks([0,10,20,30])\n",
    "\n",
    "plt.title('5h/DMSO - interactions with 500kB, All genes')\n",
    "# plt.show()\n",
    "\n",
    "plt.savefig('Deseq5h_500kb.png', dpi=200)"
   ]
  },
  {
   "cell_type": "code",
   "execution_count": null,
   "id": "cb193c75-f036-488e-b45e-b811c26bbaea",
   "metadata": {},
   "outputs": [],
   "source": []
  }
 ],
 "metadata": {
  "kernelspec": {
   "display_name": "Python 3 (ipykernel)",
   "language": "python",
   "name": "python3"
  },
  "language_info": {
   "codemirror_mode": {
    "name": "ipython",
    "version": 3
   },
   "file_extension": ".py",
   "mimetype": "text/x-python",
   "name": "python",
   "nbconvert_exporter": "python",
   "pygments_lexer": "ipython3",
   "version": "3.9.13"
  }
 },
 "nbformat": 4,
 "nbformat_minor": 5
}
